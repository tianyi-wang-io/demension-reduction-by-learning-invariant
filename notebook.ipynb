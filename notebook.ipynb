{
 "cells": [
  {
   "cell_type": "code",
   "id": "initial_id",
   "metadata": {
    "collapsed": true,
    "ExecuteTime": {
     "end_time": "2025-04-23T05:28:23.672738Z",
     "start_time": "2025-04-23T05:28:23.670483Z"
    }
   },
   "source": [
    "import torchvision\n",
    "from torchvision import transforms\n",
    "\n",
    "import matplotlib.pyplot as plt\n",
    "%matplotlib notebook"
   ],
   "outputs": [],
   "execution_count": 14
  },
  {
   "metadata": {
    "ExecuteTime": {
     "end_time": "2025-04-23T05:13:59.511377Z",
     "start_time": "2025-04-23T05:13:59.508341Z"
    }
   },
   "cell_type": "code",
   "source": [
    "# Target classes in CIFAR-10: Cat (3), Dog (5), Ship (8), Truck (9)\n",
    "allowed_labels = [3, 5, 8, 9]"
   ],
   "id": "5cf8a472a6c24083",
   "outputs": [],
   "execution_count": 2
  },
  {
   "metadata": {
    "ExecuteTime": {
     "end_time": "2025-04-23T05:29:10.108410Z",
     "start_time": "2025-04-23T05:29:03.707746Z"
    }
   },
   "cell_type": "code",
   "source": [
    "train_dataset = torchvision.datasets.CIFAR10(root='./data', train=True, download=True, transform=transforms.ToTensor())\n",
    "test_dataset = torchvision.datasets.CIFAR10(root='./data', train=False, download=True, transform=transforms.ToTensor())\n"
   ],
   "id": "99a90483b4e20c77",
   "outputs": [
    {
     "name": "stderr",
     "output_type": "stream",
     "text": [
      "100%|██████████| 170M/170M [00:03<00:00, 50.6MB/s] \n"
     ]
    }
   ],
   "execution_count": 15
  },
  {
   "metadata": {
    "ExecuteTime": {
     "end_time": "2025-04-23T05:30:16.076765Z",
     "start_time": "2025-04-23T05:30:16.070809Z"
    }
   },
   "cell_type": "code",
   "source": [
    "plt.imshow(train_dataset[0][0].permute(1, 2, 0))\n",
    "plt.show()"
   ],
   "id": "e37da0029bd7eccf",
   "outputs": [],
   "execution_count": 21
  },
  {
   "metadata": {},
   "cell_type": "code",
   "outputs": [],
   "execution_count": null,
   "source": "",
   "id": "bdd83cc4d7ef32e6"
  },
  {
   "metadata": {
    "ExecuteTime": {
     "end_time": "2025-04-23T05:31:16.316130Z",
     "start_time": "2025-04-23T05:31:16.312356Z"
    }
   },
   "cell_type": "code",
   "source": [
    "plt.plot([1,2,3], [1,2,3])\n",
    "plt.show()"
   ],
   "id": "366b70ced2d34452",
   "outputs": [],
   "execution_count": 23
  },
  {
   "metadata": {},
   "cell_type": "code",
   "source": "",
   "id": "ba105cd53659ca68",
   "outputs": [],
   "execution_count": null
  },
  {
   "metadata": {},
   "cell_type": "code",
   "source": "",
   "id": "643cd93ab53a5a60",
   "outputs": [],
   "execution_count": null
  },
  {
   "metadata": {},
   "cell_type": "code",
   "source": "",
   "id": "e47851d16fc3f46e",
   "outputs": [],
   "execution_count": null
  },
  {
   "metadata": {},
   "cell_type": "code",
   "source": "",
   "id": "c4ca1a077deda1f4",
   "outputs": [],
   "execution_count": null
  },
  {
   "metadata": {},
   "cell_type": "code",
   "source": "",
   "id": "a956d23aa445b1e8",
   "outputs": [],
   "execution_count": null
  },
  {
   "metadata": {},
   "cell_type": "code",
   "source": "",
   "id": "5af53060e2ea4078",
   "outputs": [],
   "execution_count": null
  },
  {
   "metadata": {},
   "cell_type": "code",
   "source": "",
   "id": "2aac613e233910fd",
   "outputs": [],
   "execution_count": null
  },
  {
   "metadata": {},
   "cell_type": "code",
   "source": "",
   "id": "511a1dc05a9d6ac2",
   "outputs": [],
   "execution_count": null
  }
 ],
 "metadata": {
  "kernelspec": {
   "display_name": "Python 3",
   "language": "python",
   "name": "python3"
  },
  "language_info": {
   "codemirror_mode": {
    "name": "ipython",
    "version": 2
   },
   "file_extension": ".py",
   "mimetype": "text/x-python",
   "name": "python",
   "nbconvert_exporter": "python",
   "pygments_lexer": "ipython2",
   "version": "2.7.6"
  }
 },
 "nbformat": 4,
 "nbformat_minor": 5
}
