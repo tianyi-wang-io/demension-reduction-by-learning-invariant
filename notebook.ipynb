{
 "cells": [
  {
   "cell_type": "code",
   "execution_count": 1,
   "id": "initial_id",
   "metadata": {
    "ExecuteTime": {
     "end_time": "2025-04-23T05:28:23.672738Z",
     "start_time": "2025-04-23T05:28:23.670483Z"
    },
    "collapsed": true
   },
   "outputs": [],
   "source": [
    "import random\n",
    "import torch\n",
    "import numpy as np\n",
    "import torchvision\n",
    "import torchvision.transforms as transforms\n",
    "import torch.nn.functional as F\n",
    "import matplotlib.pyplot as plt\n",
    "import pandas as pd\n",
    "from sklearn.decomposition import PCA\n",
    "\n",
    "%matplotlib inline"
   ]
  },
  {
   "cell_type": "code",
   "execution_count": 2,
   "id": "cb166f0e",
   "metadata": {},
   "outputs": [],
   "source": [
    "from predict import load_trained_model, predict_image_class\n",
    "from data_preparation import get_cifar10_datasets, get_dataloader\n",
    "from train import train_model"
   ]
  },
  {
   "cell_type": "markdown",
   "id": "b5db9ef4",
   "metadata": {},
   "source": [
    "# Functions"
   ]
  },
  {
   "cell_type": "code",
   "execution_count": 3,
   "id": "e5ad8fdd",
   "metadata": {},
   "outputs": [],
   "source": [
    "def plot_triplet_images(image_label_tuple, index_to_class_mapping):\n",
    "    \"\"\"\n",
    "    Plots a row of 3 CIFAR-10 images with labels.\n",
    "\n",
    "    Args:\n",
    "        image_label_tuple (tuple): A tuple of (images, labels) where:\n",
    "            - images is a list or tensor of 3 images\n",
    "            - labels is a list or tensor of 3 corresponding labels\n",
    "        index_to_class_mapping (dict): Mapping from class index to class name\n",
    "    \"\"\"\n",
    "    images, labels = image_label_tuple\n",
    "    assert len(images) == 3\n",
    "\n",
    "    label_title = ['anchor', 'positive', 'negative']\n",
    "    fig, axs = plt.subplots(1, 3, figsize=(9, 3))\n",
    "    for i in range(3):\n",
    "        img, label = images[i], labels\n",
    "        if i == 2:\n",
    "            display_label = 'other'\n",
    "        else:\n",
    "            display_label = index_to_class_mapping[label]\n",
    "\n",
    "        if isinstance(img, torch.Tensor):\n",
    "            img = img.detach().cpu()\n",
    "            if img.shape[0] == 3:  # (C, H, W)\n",
    "                img = img.permute(1, 2, 0)  # to (H, W, C)\n",
    "        \n",
    "        axs[i].imshow(img)\n",
    "        axs[i].set_title(label_title[i] + ': ' + display_label, fontsize=10)\n",
    "        axs[i].axis('off')\n",
    "\n",
    "    plt.tight_layout()\n",
    "    plt.show()"
   ]
  },
  {
   "cell_type": "code",
   "execution_count": 4,
   "id": "d5965bdf",
   "metadata": {},
   "outputs": [],
   "source": [
    "def show_image(image_tensor, title=None):\n",
    "    assert isinstance(image_tensor, torch.Tensor), \"Input must be a torch.Tensor\"\n",
    "    assert image_tensor.shape == (3, 32, 32), \"Image must be of shape (3, 32, 32)\"\n",
    "\n",
    "    # Move to CPU, detach, and convert to numpy\n",
    "    img = image_tensor.detach().cpu()\n",
    "    img = img.permute(1, 2, 0).numpy()  # (C, H, W) -> (H, W, C)\n",
    "\n",
    "    # Rescale from normalized range [-1, 1] or other to [0, 1] if needed\n",
    "    img = (img - img.min()) / (img.max() - img.min())\n",
    "\n",
    "    # Plot the image\n",
    "    plt.imshow(img)\n",
    "    if title:\n",
    "        plt.title(title)\n",
    "    plt.axis('off')\n",
    "    plt.show()\n"
   ]
  },
  {
   "cell_type": "code",
   "execution_count": 5,
   "id": "477f1a37",
   "metadata": {},
   "outputs": [],
   "source": [
    "def reduce_dimension_pca(embeddings: np.ndarray, target_dim: int = 2) -> np.ndarray:\n",
    "    pca = PCA(n_components=target_dim)\n",
    "    reduced_embeddings = pca.fit_transform(embeddings)\n",
    "    return reduced_embeddings"
   ]
  },
  {
   "cell_type": "code",
   "execution_count": 6,
   "id": "bac1a3a6",
   "metadata": {},
   "outputs": [],
   "source": [
    "def sample_per_class(data: np.ndarray, labels: np.ndarray, num_samples_per_class: int):\n",
    "    unique_classes = np.unique(labels)\n",
    "    sampled_indices = []\n",
    "\n",
    "    for class_label in unique_classes:\n",
    "        class_indices = np.where(labels == class_label)[0]\n",
    "\n",
    "        num_to_sample = min(num_samples_per_class, len(class_indices))\n",
    "\n",
    "        sampled_class_indices = np.random.choice(class_indices, size=num_to_sample, replace=False)\n",
    "\n",
    "        sampled_indices.extend(sampled_class_indices)\n",
    "\n",
    "    sampled_indices = np.array(sampled_indices)\n",
    "    np.random.shuffle(sampled_indices)\n",
    "\n",
    "    sampled_data = data[sampled_indices]\n",
    "    sampled_labels = labels[sampled_indices]\n",
    "\n",
    "    return sampled_data, sampled_labels"
   ]
  },
  {
   "cell_type": "markdown",
   "id": "5914ad21",
   "metadata": {},
   "source": [
    "# Dataset"
   ]
  },
  {
   "cell_type": "code",
   "execution_count": 7,
   "id": "3615f7fd",
   "metadata": {},
   "outputs": [],
   "source": [
    "CLASS_INDEX = [0, 1, 2, 3]\n",
    "CLASS_LABEL = ['cat', 'dog', 'ship', 'truck']\n",
    "LABEL_MAP = {original_label: new_label for new_label, original_label in enumerate(CLASS_INDEX)}\n",
    "INDEX_TO_CLASS = {i: j for i, j in zip(CLASS_INDEX, CLASS_LABEL)}"
   ]
  },
  {
   "cell_type": "code",
   "execution_count": 8,
   "id": "caeaac1b",
   "metadata": {},
   "outputs": [
    {
     "name": "stdout",
     "output_type": "stream",
     "text": [
      "Filtering and remapping base training dataset...\n",
      "Dataset filtered. New number of samples: 20000\n",
      "Filtering and remapping base testing dataset...\n",
      "Dataset filtered. New number of samples: 4000\n",
      "Triplet Dataset created with 20000 samples (based on base dataset size).\n",
      "Classes found in dataset: [0, 1, 2, 3]\n",
      "Filtered CIFAR-10 Triplet train loader and standard test loader created with 8 workers.\n"
     ]
    }
   ],
   "source": [
    "train_dataset, test_dataset = get_cifar10_datasets(data_dir='./data')\n",
    "train_loader, test_loader = get_dataloader(train_dataset, test_dataset, batch_size=128, num_workers=8)"
   ]
  },
  {
   "cell_type": "code",
   "execution_count": 9,
   "id": "bdd83cc4d7ef32e6",
   "metadata": {},
   "outputs": [
    {
     "name": "stderr",
     "output_type": "stream",
     "text": [
      "Clipping input data to the valid range for imshow with RGB data ([0..1] for floats or [0..255] for integers). Got range [-2.4290657..2.7537313].\n",
      "Clipping input data to the valid range for imshow with RGB data ([0..1] for floats or [0..255] for integers). Got range [-2.4290657..2.7537313].\n",
      "Clipping input data to the valid range for imshow with RGB data ([0..1] for floats or [0..255] for integers). Got range [-2.4290657..2.7537313].\n"
     ]
    },
    {
     "data": {
      "image/png": "[encoded data removed]",
      "text/plain": [
       "<Figure size 900x300 with 3 Axes>"
      ]
     },
     "metadata": {},
     "output_type": "display_data"
    }
   ],
   "source": [
    "plot_triplet_images(train_dataset[random.randint(0, 20000)], INDEX_TO_CLASS)"
   ]
  },
  {
   "cell_type": "markdown",
   "id": "643cd93ab53a5a60",
   "metadata": {},
   "source": [
    "# Training"
   ]
  },
  {
   "cell_type": "code",
   "execution_count": null,
   "id": "e47851d16fc3f46e",
   "metadata": {},
   "outputs": [],
   "source": [
    "train_model(\n",
    "    train_loader=train_loader,\n",
    "    test_loader=test_loader,\n",
    "    encoder_name='cnn',\n",
    "    embedding_dim=128,\n",
    "    num_classes=4,\n",
    "    learning_rate=0.0005,\n",
    "    num_epochs=12,\n",
    "    triplet_margin=0.5,\n",
    "    triplet_weight=1,\n",
    "    classification_weight=0.5,\n",
    ")"
   ]
  },
  {
   "cell_type": "code",
   "execution_count": null,
   "id": "46240996",
   "metadata": {},
   "outputs": [],
   "source": [
    "train_model(\n",
    "    train_loader=train_loader,\n",
    "    test_loader=test_loader,\n",
    "    encoder_name='cnn',\n",
    "    embedding_dim=128,\n",
    "    num_classes=4,\n",
    "    learning_rate=0.0005,\n",
    "    num_epochs=12,\n",
    "    triplet_margin=1,\n",
    "    triplet_weight=1,\n",
    "    classification_weight=0.5,\n",
    ")"
   ]
  },
  {
   "cell_type": "code",
   "execution_count": null,
   "id": "43b0a32b",
   "metadata": {},
   "outputs": [],
   "source": [
    "train_model(\n",
    "    train_loader=train_loader,\n",
    "    test_loader=test_loader,\n",
    "    encoder_name='cnn',\n",
    "    embedding_dim=128,\n",
    "    num_classes=4,\n",
    "    learning_rate=0.0005,\n",
    "    num_epochs=12,\n",
    "    triplet_margin=1.5,\n",
    "    triplet_weight=1,\n",
    "    classification_weight=0.5,\n",
    ")"
   ]
  },
  {
   "cell_type": "code",
   "execution_count": null,
   "id": "70a85910",
   "metadata": {},
   "outputs": [],
   "source": [
    "train_model(\n",
    "    train_loader=train_loader,\n",
    "    test_loader=test_loader,\n",
    "    encoder_name='resnet18',\n",
    "    embedding_dim=128,\n",
    "    num_classes=4,\n",
    "    learning_rate=0.0005,\n",
    "    num_epochs=12,\n",
    "    triplet_margin=1,\n",
    "    triplet_weight=1,\n",
    "    classification_weight=0.5,\n",
    ")"
   ]
  },
  {
   "cell_type": "code",
   "execution_count": null,
   "id": "ea9a5041",
   "metadata": {},
   "outputs": [],
   "source": [
    "train_model(\n",
    "    train_loader=train_loader,\n",
    "    test_loader=test_loader,\n",
    "    encoder_name='resnet18',\n",
    "    embedding_dim=64,\n",
    "    num_classes=4,\n",
    "    learning_rate=0.0005,\n",
    "    num_epochs=12,\n",
    "    triplet_margin=1,\n",
    "    triplet_weight=1,\n",
    "    classification_weight=0.5,\n",
    ")"
   ]
  },
  {
   "cell_type": "code",
   "execution_count": null,
   "id": "c5c65aa4",
   "metadata": {},
   "outputs": [],
   "source": [
    "train_model(\n",
    "    train_loader=train_loader,\n",
    "    test_loader=test_loader,\n",
    "    encoder_name='resnet18',\n",
    "    embedding_dim=64,\n",
    "    num_classes=4,\n",
    "    learning_rate=0.0005,\n",
    "    num_epochs=12,\n",
    "    triplet_margin=1.5,\n",
    "    triplet_weight=1,\n",
    "    classification_weight=0.5,\n",
    ")"
   ]
  },
  {
   "cell_type": "markdown",
   "id": "5f5fbb82",
   "metadata": {},
   "source": [
    "# Predict"
   ]
  },
  {
   "cell_type": "code",
   "execution_count": 10,
   "id": "890be5c7",
   "metadata": {},
   "outputs": [],
   "source": [
    "DEVICE = torch.device(\n",
    "    \"cuda\"\n",
    "    if torch.cuda.is_available()\n",
    "    else \"mps\" if torch.backends.mps.is_available() else \"cpu\"\n",
    ")"
   ]
  },
  {
   "cell_type": "code",
   "execution_count": 11,
   "id": "1cbd4606",
   "metadata": {},
   "outputs": [
    {
     "name": "stdout",
     "output_type": "stream",
     "text": [
      "Model loaded successfully from ./output/resnet18_4cls_64dim_1tm_model.pth\n"
     ]
    }
   ],
   "source": [
    "model = load_trained_model('./output/resnet18_4cls_64dim_1tm_model.pth', 'resnet18', 64, 4, DEVICE)"
   ]
  },
  {
   "cell_type": "code",
   "execution_count": null,
   "id": "112d2cc3",
   "metadata": {},
   "outputs": [],
   "source": [
    "labels = []\n",
    "embeddings = []\n",
    "for image, label in test_dataset:\n",
    "    label, prob, embedding = predict_image_class(model, image, DEVICE, True)\n",
    "    labels.append(label)\n",
    "    embeddings.append(embedding[0].cpu().detach().numpy())\n",
    "len(labels)"
   ]
  },
  {
   "cell_type": "code",
   "execution_count": null,
   "id": "56701adf",
   "metadata": {},
   "outputs": [],
   "source": [
    "labels = np.array(labels)\n",
    "embeddings = np.array([i for i in embeddings])"
   ]
  },
  {
   "cell_type": "markdown",
   "id": "01861478",
   "metadata": {},
   "source": [
    "# Visualization"
   ]
  },
  {
   "cell_type": "code",
   "execution_count": null,
   "id": "b1a0053c",
   "metadata": {},
   "outputs": [],
   "source": [
    "reduced_embeddings = reduce_dimension_pca(embeddings)"
   ]
  },
  {
   "cell_type": "code",
   "execution_count": null,
   "id": "1d6ce474",
   "metadata": {},
   "outputs": [],
   "source": [
    "reduced_embeddings, labels = sample_per_class(reduced_embeddings, labels, 500)"
   ]
  },
  {
   "cell_type": "code",
   "execution_count": null,
   "id": "c9961807",
   "metadata": {},
   "outputs": [],
   "source": [
    "color_map = {\n",
    "    'cat': 'green',\n",
    "    'dog': 'blue',\n",
    "    'ship': 'red',\n",
    "    'truck': 'orange'\n",
    "}\n",
    "colors = [color_map[i] for i in labels]"
   ]
  },
  {
   "cell_type": "code",
   "execution_count": null,
   "id": "813a2c9e",
   "metadata": {},
   "outputs": [],
   "source": [
    "plt.figure(figsize=(10, 8))\n",
    "for i in np.unique(labels):\n",
    "    index = np.where(labels==i)[0]\n",
    "    x = reduced_embeddings[index, 0]\n",
    "    y = reduced_embeddings[index, 1]\n",
    "    color = color_map[i]\n",
    "    label = i\n",
    "    plt.scatter(x, y, c=color, label=label, alpha=0.7)\n",
    "plt.title(\"2D Embedding Visualization (PCA)\")\n",
    "plt.xlabel(\"Principal Component 1\")\n",
    "plt.ylabel(\"Principal Component 2\")\n",
    "plt.legend()\n",
    "plt.grid(True)\n",
    "plt.show()"
   ]
  },
  {
   "cell_type": "code",
   "execution_count": null,
   "id": "9f0a2a73",
   "metadata": {},
   "outputs": [],
   "source": []
  },
  {
   "cell_type": "code",
   "execution_count": null,
   "id": "511a1dc05a9d6ac2",
   "metadata": {},
   "outputs": [],
   "source": []
  }
 ],
 "metadata": {
  "kernelspec": {
   "display_name": "deep-learning",
   "language": "python",
   "name": "python3"
  },
  "language_info": {
   "codemirror_mode": {
    "name": "ipython",
    "version": 3
   },
   "file_extension": ".py",
   "mimetype": "text/x-python",
   "name": "python",
   "nbconvert_exporter": "python",
   "pygments_lexer": "ipython3",
   "version": "3.12.0"
  }
 },
 "nbformat": 4,
 "nbformat_minor": 5
}
