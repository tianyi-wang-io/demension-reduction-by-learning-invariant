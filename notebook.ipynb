{
 "cells": [
  {
   "cell_type": "code",
   "execution_count": 1,
   "id": "initial_id",
   "metadata": {
    "ExecuteTime": {
     "end_time": "2025-04-23T05:28:23.672738Z",
     "start_time": "2025-04-23T05:28:23.670483Z"
    },
    "collapsed": true
   },
   "outputs": [],
   "source": [
    "import random\n",
    "import torch\n",
    "import numpy as np\n",
    "import torchvision\n",
    "import torchvision.transforms as transforms\n",
    "import torch.nn.functional as F\n",
    "import matplotlib.pyplot as plt\n",
    "import pandas as pd\n",
    "from sklearn.decomposition import PCA\n",
    "\n",
    "%matplotlib inline"
   ]
  },
  {
   "cell_type": "code",
   "execution_count": 2,
   "id": "cb166f0e",
   "metadata": {},
   "outputs": [],
   "source": [
    "from predict import load_trained_model, predict_image_class\n",
    "from data_preparation import get_cifar10_datasets, get_dataloader\n",
    "from train import train_model"
   ]
  },
  {
   "cell_type": "markdown",
   "id": "b5db9ef4",
   "metadata": {},
   "source": [
    "# Functions"
   ]
  },
  {
   "cell_type": "code",
   "execution_count": 3,
   "id": "e5ad8fdd",
   "metadata": {},
   "outputs": [],
   "source": [
    "def plot_triplet_images(image_label_tuple, index_to_class_mapping):\n",
    "    \"\"\"\n",
    "    Plots a row of 3 CIFAR-10 images with labels.\n",
    "\n",
    "    Args:\n",
    "        image_label_tuple (tuple): A tuple of (images, labels) where:\n",
    "            - images is a list or tensor of 3 images\n",
    "            - labels is a list or tensor of 3 corresponding labels\n",
    "        index_to_class_mapping (dict): Mapping from class index to class name\n",
    "    \"\"\"\n",
    "    images, labels = image_label_tuple\n",
    "    assert len(images) == 3\n",
    "\n",
    "    label_title = ['anchor', 'positive', 'negative']\n",
    "    fig, axs = plt.subplots(1, 3, figsize=(9, 3))\n",
    "    for i in range(3):\n",
    "        img, label = images[i], labels\n",
    "        if i == 2:\n",
    "            display_label = 'other'\n",
    "        else:\n",
    "            display_label = index_to_class_mapping[label]\n",
    "\n",
    "        if isinstance(img, torch.Tensor):\n",
    "            img = img.detach().cpu()\n",
    "            if img.shape[0] == 3:  # (C, H, W)\n",
    "                img = img.permute(1, 2, 0)  # to (H, W, C)\n",
    "        \n",
    "        axs[i].imshow(img)\n",
    "        axs[i].set_title(label_title[i] + ': ' + display_label, fontsize=10)\n",
    "        axs[i].axis('off')\n",
    "\n",
    "    plt.tight_layout()\n",
    "    plt.show()"
   ]
  },
  {
   "cell_type": "code",
   "execution_count": 4,
   "id": "d5965bdf",
   "metadata": {},
   "outputs": [],
   "source": [
    "def show_image(image_tensor, title=None):\n",
    "    assert isinstance(image_tensor, torch.Tensor), \"Input must be a torch.Tensor\"\n",
    "    assert image_tensor.shape == (3, 32, 32), \"Image must be of shape (3, 32, 32)\"\n",
    "\n",
    "    # Move to CPU, detach, and convert to numpy\n",
    "    img = image_tensor.detach().cpu()\n",
    "    img = img.permute(1, 2, 0).numpy()  # (C, H, W) -> (H, W, C)\n",
    "\n",
    "    # Rescale from normalized range [-1, 1] or other to [0, 1] if needed\n",
    "    img = (img - img.min()) / (img.max() - img.min())\n",
    "\n",
    "    # Plot the image\n",
    "    plt.imshow(img)\n",
    "    if title:\n",
    "        plt.title(title)\n",
    "    plt.axis('off')\n",
    "    plt.show()\n"
   ]
  },
  {
   "cell_type": "code",
   "execution_count": 5,
   "id": "477f1a37",
   "metadata": {},
   "outputs": [],
   "source": [
    "def reduce_dimension_pca(embeddings: np.ndarray, target_dim: int = 2) -> np.ndarray:\n",
    "    pca = PCA(n_components=target_dim)\n",
    "    reduced_embeddings = pca.fit_transform(embeddings)\n",
    "    return reduced_embeddings"
   ]
  },
  {
   "cell_type": "code",
   "execution_count": 6,
   "id": "bac1a3a6",
   "metadata": {},
   "outputs": [],
   "source": [
    "def sample_per_class(data: np.ndarray, labels: np.ndarray, num_samples_per_class: int):\n",
    "    unique_classes = np.unique(labels)\n",
    "    sampled_indices = []\n",
    "\n",
    "    for class_label in unique_classes:\n",
    "        class_indices = np.where(labels == class_label)[0]\n",
    "\n",
    "        num_to_sample = min(num_samples_per_class, len(class_indices))\n",
    "\n",
    "        sampled_class_indices = np.random.choice(class_indices, size=num_to_sample, replace=False)\n",
    "\n",
    "        sampled_indices.extend(sampled_class_indices)\n",
    "\n",
    "    sampled_indices = np.array(sampled_indices)\n",
    "    np.random.shuffle(sampled_indices)\n",
    "\n",
    "    sampled_data = data[sampled_indices]\n",
    "    sampled_labels = labels[sampled_indices]\n",
    "\n",
    "    return sampled_data, sampled_labels"
   ]
  },
  {
   "cell_type": "markdown",
   "id": "5914ad21",
   "metadata": {},
   "source": [
    "# Dataset"
   ]
  },
  {
   "cell_type": "code",
   "execution_count": 7,
   "id": "3615f7fd",
   "metadata": {},
   "outputs": [],
   "source": [
    "CLASS_INDEX = [0, 1, 2, 3]\n",
    "CLASS_LABEL = ['cat', 'dog', 'ship', 'truck']\n",
    "LABEL_MAP = {original_label: new_label for new_label, original_label in enumerate(CLASS_INDEX)}\n",
    "INDEX_TO_CLASS = {i: j for i, j in zip(CLASS_INDEX, CLASS_LABEL)}"
   ]
  },
  {
   "cell_type": "code",
   "execution_count": 8,
   "id": "caeaac1b",
   "metadata": {},
   "outputs": [
    {
     "name": "stdout",
     "output_type": "stream",
     "text": [
      "Filtering and remapping base training dataset...\n",
      "Dataset filtered. New number of samples: 20000\n",
      "Filtering and remapping base testing dataset...\n",
      "Dataset filtered. New number of samples: 4000\n",
      "Triplet Dataset created with 20000 samples (based on base dataset size).\n",
      "Classes found in dataset: [0, 1, 2, 3]\n",
      "Filtered CIFAR-10 Triplet train loader and standard test loader created with 8 workers.\n"
     ]
    }
   ],
   "source": [
    "train_dataset, test_dataset = get_cifar10_datasets(data_dir='./data')\n",
    "train_loader, test_loader = get_dataloader(train_dataset, test_dataset, batch_size=128, num_workers=8)"
   ]
  },
  {
   "cell_type": "code",
   "execution_count": 9,
   "id": "bdd83cc4d7ef32e6",
   "metadata": {},
   "outputs": [
    {
     "name": "stderr",
     "output_type": "stream",
     "text": [
      "Clipping input data to the valid range for imshow with RGB data ([0..1] for floats or [0..255] for integers). Got range [-2.4290657..2.6952004].\n",
      "Clipping input data to the valid range for imshow with RGB data ([0..1] for floats or [0..255] for integers). Got range [-2.4290657..2.1489122].\n",
      "Clipping input data to the valid range for imshow with RGB data ([0..1] for floats or [0..255] for integers). Got range [-2.4290657..2.4220564].\n"
     ]
    },
    {
     "data": {
      "image/png": "[encoded data removed]",
      "text/plain": [
       "<Figure size 900x300 with 3 Axes>"
      ]
     },
     "metadata": {},
     "output_type": "display_data"
    }
   ],
   "source": [
    "plot_triplet_images(train_dataset[random.randint(0, 20000)], INDEX_TO_CLASS)"
   ]
  },
  {
   "cell_type": "markdown",
   "id": "643cd93ab53a5a60",
   "metadata": {},
   "source": [
    "# Training"
   ]
  },
  {
   "cell_type": "code",
   "execution_count": 10,
   "id": "e47851d16fc3f46e",
   "metadata": {},
   "outputs": [
    {
     "name": "stdout",
     "output_type": "stream",
     "text": [
      "Using device: mps\n",
      "learning_rate: 0.0005, \n",
      "num_epochs: 12 \n",
      "embedding_dim: 128 \n",
      "num_classes: 4\n",
      "Encoder Architecture: cnn\n",
      "Triplet Margin: 0.5, Triplet Weight: 1, Classification Weight: 0.5\n",
      "Starting training...\n"
     ]
    },
    {
     "name": "stderr",
     "output_type": "stream",
     "text": [
      "Epoch 1/12 [Train]: 100%|██████████| 157/157 [01:00<00:00,  2.58it/s, acc=56.20%, clf_loss=3.9467, total_loss=3.2006, trip_loss=1.2272]\n",
      "Epoch 1/12 [Test ]: 100%|██████████| 32/32 [00:50<00:00,  1.57s/it, loss=4.4865] \n"
     ]
    },
    {
     "name": "stdout",
     "output_type": "stream",
     "text": [
      "\n",
      "Epoch [1/12] Summary: Total Train Loss: 0.7835, Clf Train Loss: 0.9662, Trip Train Loss: 0.3004, Train Acc: 56.20%, Test Loss: 0.6820, Test Acc: 66.83% \n",
      "\n",
      "\n"
     ]
    },
    {
     "name": "stderr",
     "output_type": "stream",
     "text": [
      "Epoch 2/12 [Train]: 100%|██████████| 157/157 [00:55<00:00,  2.81it/s, acc=68.55%, clf_loss=2.7357, total_loss=2.2850, trip_loss=0.9172]\n",
      "Epoch 2/12 [Test ]: 100%|██████████| 32/32 [00:50<00:00,  1.57s/it, loss=3.2217] \n"
     ]
    },
    {
     "name": "stdout",
     "output_type": "stream",
     "text": [
      "\n",
      "Epoch [2/12] Summary: Total Train Loss: 0.5594, Clf Train Loss: 0.6697, Trip Train Loss: 0.2245, Train Acc: 68.55%, Test Loss: 0.6443, Test Acc: 71.35% \n",
      "\n",
      "\n"
     ]
    },
    {
     "name": "stderr",
     "output_type": "stream",
     "text": [
      "Epoch 3/12 [Train]: 100%|██████████| 157/157 [00:55<00:00,  2.82it/s, acc=72.74%, clf_loss=2.4123, total_loss=2.0189, trip_loss=0.8128]\n",
      "Epoch 3/12 [Test ]: 100%|██████████| 32/32 [00:50<00:00,  1.57s/it, loss=3.0901] \n"
     ]
    },
    {
     "name": "stdout",
     "output_type": "stream",
     "text": [
      "\n",
      "Epoch [3/12] Summary: Total Train Loss: 0.4942, Clf Train Loss: 0.5905, Trip Train Loss: 0.1990, Train Acc: 72.74%, Test Loss: 0.5686, Test Acc: 74.40% \n",
      "\n",
      "\n"
     ]
    },
    {
     "name": "stderr",
     "output_type": "stream",
     "text": [
      "Epoch 4/12 [Train]: 100%|██████████| 157/157 [00:55<00:00,  2.82it/s, acc=75.49%, clf_loss=2.1977, total_loss=1.8610, trip_loss=0.7621]\n",
      "Epoch 4/12 [Test ]: 100%|██████████| 32/32 [00:50<00:00,  1.57s/it, loss=2.6495] \n"
     ]
    },
    {
     "name": "stdout",
     "output_type": "stream",
     "text": [
      "\n",
      "Epoch [4/12] Summary: Total Train Loss: 0.4556, Clf Train Loss: 0.5380, Trip Train Loss: 0.1866, Train Acc: 75.49%, Test Loss: 0.4875, Test Acc: 78.12% \n",
      "\n",
      "\n"
     ]
    },
    {
     "name": "stderr",
     "output_type": "stream",
     "text": [
      "Epoch 5/12 [Train]: 100%|██████████| 157/157 [00:55<00:00,  2.82it/s, acc=76.84%, clf_loss=2.1033, total_loss=1.7699, trip_loss=0.7182]\n",
      "Epoch 5/12 [Test ]: 100%|██████████| 32/32 [00:50<00:00,  1.57s/it, loss=2.2399] \n"
     ]
    },
    {
     "name": "stdout",
     "output_type": "stream",
     "text": [
      "\n",
      "Epoch [5/12] Summary: Total Train Loss: 0.4333, Clf Train Loss: 0.5149, Trip Train Loss: 0.1758, Train Acc: 76.84%, Test Loss: 0.4480, Test Acc: 81.05% \n",
      "\n",
      "\n"
     ]
    },
    {
     "name": "stderr",
     "output_type": "stream",
     "text": [
      "Epoch 6/12 [Train]: 100%|██████████| 157/157 [00:55<00:00,  2.82it/s, acc=79.23%, clf_loss=1.9290, total_loss=1.6509, trip_loss=0.6864]\n",
      "Epoch 6/12 [Test ]: 100%|██████████| 32/32 [00:50<00:00,  1.57s/it, loss=2.6738] \n"
     ]
    },
    {
     "name": "stdout",
     "output_type": "stream",
     "text": [
      "\n",
      "Epoch [6/12] Summary: Total Train Loss: 0.4041, Clf Train Loss: 0.4722, Trip Train Loss: 0.1680, Train Acc: 79.23%, Test Loss: 0.4920, Test Acc: 78.83% \n",
      "\n",
      "\n"
     ]
    },
    {
     "name": "stderr",
     "output_type": "stream",
     "text": [
      "Epoch 7/12 [Train]: 100%|██████████| 157/157 [00:55<00:00,  2.82it/s, acc=80.13%, clf_loss=1.8794, total_loss=1.5990, trip_loss=0.6593]\n",
      "Epoch 7/12 [Test ]: 100%|██████████| 32/32 [00:50<00:00,  1.57s/it, loss=2.5091] \n"
     ]
    },
    {
     "name": "stdout",
     "output_type": "stream",
     "text": [
      "\n",
      "Epoch [7/12] Summary: Total Train Loss: 0.3914, Clf Train Loss: 0.4601, Trip Train Loss: 0.1614, Train Acc: 80.13%, Test Loss: 0.4617, Test Acc: 79.97% \n",
      "\n",
      "\n"
     ]
    },
    {
     "name": "stderr",
     "output_type": "stream",
     "text": [
      "Epoch 8/12 [Train]: 100%|██████████| 157/157 [00:55<00:00,  2.81it/s, acc=81.14%, clf_loss=1.7748, total_loss=1.5130, trip_loss=0.6256]\n",
      "Epoch 8/12 [Test ]: 100%|██████████| 32/32 [00:50<00:00,  1.57s/it, loss=2.2230]\n"
     ]
    },
    {
     "name": "stdout",
     "output_type": "stream",
     "text": [
      "\n",
      "Epoch [8/12] Summary: Total Train Loss: 0.3704, Clf Train Loss: 0.4345, Trip Train Loss: 0.1531, Train Acc: 81.14%, Test Loss: 0.4090, Test Acc: 82.50% \n",
      "\n",
      "\n"
     ]
    },
    {
     "name": "stderr",
     "output_type": "stream",
     "text": [
      "Epoch 9/12 [Train]: 100%|██████████| 157/157 [00:55<00:00,  2.82it/s, acc=80.86%, clf_loss=1.7839, total_loss=1.5136, trip_loss=0.6217]\n",
      "Epoch 9/12 [Test ]: 100%|██████████| 32/32 [00:50<00:00,  1.57s/it, loss=2.0960]\n"
     ]
    },
    {
     "name": "stdout",
     "output_type": "stream",
     "text": [
      "\n",
      "Epoch [9/12] Summary: Total Train Loss: 0.3705, Clf Train Loss: 0.4367, Trip Train Loss: 0.1522, Train Acc: 80.86%, Test Loss: 0.3857, Test Acc: 83.88% \n",
      "\n",
      "\n"
     ]
    },
    {
     "name": "stderr",
     "output_type": "stream",
     "text": [
      "Epoch 10/12 [Train]: 100%|██████████| 157/157 [00:55<00:00,  2.81it/s, acc=82.34%, clf_loss=1.6831, total_loss=1.4289, trip_loss=0.5874]\n",
      "Epoch 10/12 [Test ]: 100%|██████████| 32/32 [00:50<00:00,  1.57s/it, loss=2.3758] \n"
     ]
    },
    {
     "name": "stdout",
     "output_type": "stream",
     "text": [
      "\n",
      "Epoch [10/12] Summary: Total Train Loss: 0.3498, Clf Train Loss: 0.4120, Trip Train Loss: 0.1438, Train Acc: 82.34%, Test Loss: 0.4752, Test Acc: 80.42% \n",
      "\n",
      "\n"
     ]
    },
    {
     "name": "stderr",
     "output_type": "stream",
     "text": [
      "Epoch 11/12 [Train]: 100%|██████████| 157/157 [00:55<00:00,  2.81it/s, acc=82.60%, clf_loss=1.6500, total_loss=1.4065, trip_loss=0.5815]\n",
      "Epoch 11/12 [Test ]: 100%|██████████| 32/32 [00:50<00:00,  1.57s/it, loss=2.1388]\n"
     ]
    },
    {
     "name": "stdout",
     "output_type": "stream",
     "text": [
      "\n",
      "Epoch [11/12] Summary: Total Train Loss: 0.3443, Clf Train Loss: 0.4039, Trip Train Loss: 0.1424, Train Acc: 82.60%, Test Loss: 0.3935, Test Acc: 83.30% \n",
      "\n",
      "\n"
     ]
    },
    {
     "name": "stderr",
     "output_type": "stream",
     "text": [
      "Epoch 12/12 [Train]: 100%|██████████| 157/157 [00:55<00:00,  2.81it/s, acc=83.58%, clf_loss=1.5630, total_loss=1.3356, trip_loss=0.5541]\n",
      "Epoch 12/12 [Test ]: 100%|██████████| 32/32 [00:50<00:00,  1.57s/it, loss=2.1984]\n"
     ]
    },
    {
     "name": "stdout",
     "output_type": "stream",
     "text": [
      "\n",
      "Epoch [12/12] Summary: Total Train Loss: 0.3269, Clf Train Loss: 0.3826, Trip Train Loss: 0.1356, Train Acc: 83.58%, Test Loss: 0.3869, Test Acc: 83.75% \n",
      "\n",
      "\n",
      "Training finished.\n",
      "Plots saved to './output' directory.\n",
      "Model parameters saved to './output/cnn_4cls_128dim_0.5tm_model.pth'\n"
     ]
    }
   ],
   "source": [
    "train_model(\n",
    "    train_loader=train_loader,\n",
    "    test_loader=test_loader,\n",
    "    encoder_name='cnn',\n",
    "    embedding_dim=128,\n",
    "    num_classes=4,\n",
    "    learning_rate=0.0005,\n",
    "    num_epochs=12,\n",
    "    triplet_margin=0.5,\n",
    "    triplet_weight=1,\n",
    "    classification_weight=0.5,\n",
    ")"
   ]
  },
  {
   "cell_type": "code",
   "execution_count": 11,
   "id": "46240996",
   "metadata": {},
   "outputs": [
    {
     "name": "stdout",
     "output_type": "stream",
     "text": [
      "Using device: mps\n",
      "learning_rate: 0.0005, \n",
      "num_epochs: 12 \n",
      "embedding_dim: 128 \n",
      "num_classes: 4\n",
      "Encoder Architecture: cnn\n",
      "Triplet Margin: 1, Triplet Weight: 1, Classification Weight: 0.5\n",
      "Starting training...\n"
     ]
    },
    {
     "name": "stderr",
     "output_type": "stream",
     "text": [
      "Epoch 1/12 [Train]: 100%|██████████| 157/157 [00:55<00:00,  2.80it/s, acc=57.58%, clf_loss=3.7723, total_loss=4.2497, trip_loss=2.3636]\n",
      "Epoch 1/12 [Test ]: 100%|██████████| 32/32 [00:50<00:00,  1.57s/it, loss=4.4904] \n"
     ]
    },
    {
     "name": "stdout",
     "output_type": "stream",
     "text": [
      "\n",
      "Epoch [1/12] Summary: Total Train Loss: 1.0403, Clf Train Loss: 0.9235, Trip Train Loss: 0.5786, Train Acc: 57.58%, Test Loss: 0.6825, Test Acc: 67.95% \n",
      "\n",
      "\n"
     ]
    },
    {
     "name": "stderr",
     "output_type": "stream",
     "text": [
      "Epoch 2/12 [Train]: 100%|██████████| 157/157 [00:55<00:00,  2.81it/s, acc=68.25%, clf_loss=2.7325, total_loss=3.1747, trip_loss=1.8085]\n",
      "Epoch 2/12 [Test ]: 100%|██████████| 32/32 [00:50<00:00,  1.57s/it, loss=3.1062] \n"
     ]
    },
    {
     "name": "stdout",
     "output_type": "stream",
     "text": [
      "\n",
      "Epoch [2/12] Summary: Total Train Loss: 0.7772, Clf Train Loss: 0.6689, Trip Train Loss: 0.4427, Train Acc: 68.25%, Test Loss: 0.5715, Test Acc: 72.62% \n",
      "\n",
      "\n"
     ]
    },
    {
     "name": "stderr",
     "output_type": "stream",
     "text": [
      "Epoch 3/12 [Train]: 100%|██████████| 157/157 [00:55<00:00,  2.81it/s, acc=71.67%, clf_loss=2.4303, total_loss=2.8449, trip_loss=1.6297]\n",
      "Epoch 3/12 [Test ]: 100%|██████████| 32/32 [00:50<00:00,  1.57s/it, loss=3.2663] \n"
     ]
    },
    {
     "name": "stdout",
     "output_type": "stream",
     "text": [
      "\n",
      "Epoch [3/12] Summary: Total Train Loss: 0.6964, Clf Train Loss: 0.5949, Trip Train Loss: 0.3990, Train Acc: 71.67%, Test Loss: 0.5487, Test Acc: 75.83% \n",
      "\n",
      "\n"
     ]
    },
    {
     "name": "stderr",
     "output_type": "stream",
     "text": [
      "Epoch 4/12 [Train]: 100%|██████████| 157/157 [00:55<00:00,  2.81it/s, acc=74.24%, clf_loss=2.2918, total_loss=2.6799, trip_loss=1.5340]\n",
      "Epoch 4/12 [Test ]: 100%|██████████| 32/32 [00:50<00:00,  1.57s/it, loss=2.7573] \n"
     ]
    },
    {
     "name": "stdout",
     "output_type": "stream",
     "text": [
      "\n",
      "Epoch [4/12] Summary: Total Train Loss: 0.6560, Clf Train Loss: 0.5610, Trip Train Loss: 0.3755, Train Acc: 74.24%, Test Loss: 0.5073, Test Acc: 75.95% \n",
      "\n",
      "\n"
     ]
    },
    {
     "name": "stderr",
     "output_type": "stream",
     "text": [
      "Epoch 5/12 [Train]: 100%|██████████| 157/157 [00:55<00:00,  2.81it/s, acc=76.62%, clf_loss=2.1343, total_loss=2.4922, trip_loss=1.4251]\n",
      "Epoch 5/12 [Test ]: 100%|██████████| 32/32 [00:50<00:00,  1.57s/it, loss=2.5220] \n"
     ]
    },
    {
     "name": "stdout",
     "output_type": "stream",
     "text": [
      "\n",
      "Epoch [5/12] Summary: Total Train Loss: 0.6101, Clf Train Loss: 0.5225, Trip Train Loss: 0.3489, Train Acc: 76.62%, Test Loss: 0.4640, Test Acc: 79.25% \n",
      "\n",
      "\n"
     ]
    },
    {
     "name": "stderr",
     "output_type": "stream",
     "text": [
      "Epoch 6/12 [Train]: 100%|██████████| 157/157 [00:55<00:00,  2.82it/s, acc=78.45%, clf_loss=1.9816, total_loss=2.3564, trip_loss=1.3656]\n",
      "Epoch 6/12 [Test ]: 100%|██████████| 32/32 [00:50<00:00,  1.57s/it, loss=2.4404] \n"
     ]
    },
    {
     "name": "stdout",
     "output_type": "stream",
     "text": [
      "\n",
      "Epoch [6/12] Summary: Total Train Loss: 0.5768, Clf Train Loss: 0.4851, Trip Train Loss: 0.3343, Train Acc: 78.45%, Test Loss: 0.4490, Test Acc: 80.55% \n",
      "\n",
      "\n"
     ]
    },
    {
     "name": "stderr",
     "output_type": "stream",
     "text": [
      "Epoch 7/12 [Train]: 100%|██████████| 157/157 [00:55<00:00,  2.81it/s, acc=78.98%, clf_loss=1.9390, total_loss=2.3174, trip_loss=1.3479]\n",
      "Epoch 7/12 [Test ]: 100%|██████████| 32/32 [00:50<00:00,  1.57s/it, loss=2.6091] \n"
     ]
    },
    {
     "name": "stdout",
     "output_type": "stream",
     "text": [
      "\n",
      "Epoch [7/12] Summary: Total Train Loss: 0.5673, Clf Train Loss: 0.4747, Trip Train Loss: 0.3300, Train Acc: 78.98%, Test Loss: 0.4801, Test Acc: 79.75% \n",
      "\n",
      "\n"
     ]
    },
    {
     "name": "stderr",
     "output_type": "stream",
     "text": [
      "Epoch 8/12 [Train]: 100%|██████████| 157/157 [00:55<00:00,  2.81it/s, acc=80.21%, clf_loss=1.8641, total_loss=2.2059, trip_loss=1.2739]\n",
      "Epoch 8/12 [Test ]: 100%|██████████| 32/32 [00:50<00:00,  1.57s/it, loss=2.3275] \n"
     ]
    },
    {
     "name": "stdout",
     "output_type": "stream",
     "text": [
      "\n",
      "Epoch [8/12] Summary: Total Train Loss: 0.5400, Clf Train Loss: 0.4563, Trip Train Loss: 0.3118, Train Acc: 80.21%, Test Loss: 0.4283, Test Acc: 81.78% \n",
      "\n",
      "\n"
     ]
    },
    {
     "name": "stderr",
     "output_type": "stream",
     "text": [
      "Epoch 9/12 [Train]: 100%|██████████| 157/157 [00:55<00:00,  2.81it/s, acc=80.61%, clf_loss=1.8050, total_loss=2.1585, trip_loss=1.2560]\n",
      "Epoch 9/12 [Test ]: 100%|██████████| 32/32 [00:50<00:00,  1.57s/it, loss=2.2601]\n"
     ]
    },
    {
     "name": "stdout",
     "output_type": "stream",
     "text": [
      "\n",
      "Epoch [9/12] Summary: Total Train Loss: 0.5284, Clf Train Loss: 0.4419, Trip Train Loss: 0.3075, Train Acc: 80.61%, Test Loss: 0.4159, Test Acc: 81.97% \n",
      "\n",
      "\n"
     ]
    },
    {
     "name": "stderr",
     "output_type": "stream",
     "text": [
      "Epoch 10/12 [Train]: 100%|██████████| 157/157 [00:55<00:00,  2.82it/s, acc=81.59%, clf_loss=1.7276, total_loss=2.0740, trip_loss=1.2102]\n",
      "Epoch 10/12 [Test ]: 100%|██████████| 32/32 [00:50<00:00,  1.57s/it, loss=2.5360]\n"
     ]
    },
    {
     "name": "stdout",
     "output_type": "stream",
     "text": [
      "\n",
      "Epoch [10/12] Summary: Total Train Loss: 0.5077, Clf Train Loss: 0.4229, Trip Train Loss: 0.2963, Train Acc: 81.59%, Test Loss: 0.3855, Test Acc: 83.75% \n",
      "\n",
      "\n"
     ]
    },
    {
     "name": "stderr",
     "output_type": "stream",
     "text": [
      "Epoch 11/12 [Train]: 100%|██████████| 157/157 [00:55<00:00,  2.82it/s, acc=82.28%, clf_loss=1.6653, total_loss=1.9881, trip_loss=1.1555]\n",
      "Epoch 11/12 [Test ]: 100%|██████████| 32/32 [00:50<00:00,  1.57s/it, loss=2.4264] \n"
     ]
    },
    {
     "name": "stdout",
     "output_type": "stream",
     "text": [
      "\n",
      "Epoch [11/12] Summary: Total Train Loss: 0.4867, Clf Train Loss: 0.4077, Trip Train Loss: 0.2829, Train Acc: 82.28%, Test Loss: 0.4464, Test Acc: 81.45% \n",
      "\n",
      "\n"
     ]
    },
    {
     "name": "stderr",
     "output_type": "stream",
     "text": [
      "Epoch 12/12 [Train]: 100%|██████████| 157/157 [00:55<00:00,  2.82it/s, acc=82.88%, clf_loss=1.6059, total_loss=1.9379, trip_loss=1.1350]\n",
      "Epoch 12/12 [Test ]: 100%|██████████| 32/32 [00:50<00:00,  1.57s/it, loss=2.0015]"
     ]
    },
    {
     "name": "stdout",
     "output_type": "stream",
     "text": [
      "\n",
      "Epoch [12/12] Summary: Total Train Loss: 0.4744, Clf Train Loss: 0.3931, Trip Train Loss: 0.2778, Train Acc: 82.88%, Test Loss: 0.3683, Test Acc: 84.25% \n",
      "\n",
      "\n",
      "Training finished.\n",
      "Plots saved to './output' directory.\n",
      "Model parameters saved to './output/cnn_4cls_128dim_1tm_model.pth'\n"
     ]
    },
    {
     "name": "stderr",
     "output_type": "stream",
     "text": [
      "\n"
     ]
    }
   ],
   "source": [
    "train_model(\n",
    "    train_loader=train_loader,\n",
    "    test_loader=test_loader,\n",
    "    encoder_name='cnn',\n",
    "    embedding_dim=128,\n",
    "    num_classes=4,\n",
    "    learning_rate=0.0005,\n",
    "    num_epochs=12,\n",
    "    triplet_margin=1,\n",
    "    triplet_weight=1,\n",
    "    classification_weight=0.5,\n",
    ")"
   ]
  },
  {
   "cell_type": "code",
   "execution_count": 12,
   "id": "43b0a32b",
   "metadata": {},
   "outputs": [
    {
     "name": "stdout",
     "output_type": "stream",
     "text": [
      "Using device: mps\n",
      "learning_rate: 0.0005, \n",
      "num_epochs: 12 \n",
      "embedding_dim: 128 \n",
      "num_classes: 4\n",
      "Encoder Architecture: cnn\n",
      "Triplet Margin: 1.5, Triplet Weight: 1, Classification Weight: 0.5\n",
      "Starting training...\n"
     ]
    },
    {
     "name": "stderr",
     "output_type": "stream",
     "text": [
      "Epoch 1/12 [Train]: 100%|██████████| 157/157 [00:56<00:00,  2.79it/s, acc=55.41%, clf_loss=3.8600, total_loss=5.6912, trip_loss=3.7612]\n",
      "Epoch 1/12 [Test ]: 100%|██████████| 32/32 [00:50<00:00,  1.57s/it, loss=4.1066] \n"
     ]
    },
    {
     "name": "stdout",
     "output_type": "stream",
     "text": [
      "\n",
      "Epoch [1/12] Summary: Total Train Loss: 1.3932, Clf Train Loss: 0.9449, Trip Train Loss: 0.9207, Train Acc: 55.41%, Test Loss: 0.7228, Test Acc: 64.62% \n",
      "\n",
      "\n"
     ]
    },
    {
     "name": "stderr",
     "output_type": "stream",
     "text": [
      "Epoch 2/12 [Train]: 100%|██████████| 157/157 [00:55<00:00,  2.81it/s, acc=67.13%, clf_loss=2.8220, total_loss=4.2535, trip_loss=2.8424]\n",
      "Epoch 2/12 [Test ]: 100%|██████████| 32/32 [00:50<00:00,  1.57s/it, loss=3.4035] \n"
     ]
    },
    {
     "name": "stdout",
     "output_type": "stream",
     "text": [
      "\n",
      "Epoch [2/12] Summary: Total Train Loss: 1.0412, Clf Train Loss: 0.6908, Trip Train Loss: 0.6958, Train Acc: 67.13%, Test Loss: 0.5990, Test Acc: 73.10% \n",
      "\n",
      "\n"
     ]
    },
    {
     "name": "stderr",
     "output_type": "stream",
     "text": [
      "Epoch 3/12 [Train]: 100%|██████████| 157/157 [00:56<00:00,  2.80it/s, acc=71.94%, clf_loss=2.5205, total_loss=3.7995, trip_loss=2.5393]\n",
      "Epoch 3/12 [Test ]: 100%|██████████| 32/32 [00:50<00:00,  1.58s/it, loss=2.9049] \n"
     ]
    },
    {
     "name": "stdout",
     "output_type": "stream",
     "text": [
      "\n",
      "Epoch [3/12] Summary: Total Train Loss: 0.9301, Clf Train Loss: 0.6170, Trip Train Loss: 0.6216, Train Acc: 71.94%, Test Loss: 0.5345, Test Acc: 75.17% \n",
      "\n",
      "\n"
     ]
    },
    {
     "name": "stderr",
     "output_type": "stream",
     "text": [
      "Epoch 4/12 [Train]: 100%|██████████| 157/157 [00:56<00:00,  2.80it/s, acc=73.62%, clf_loss=2.3504, total_loss=3.5369, trip_loss=2.3617]\n",
      "Epoch 4/12 [Test ]: 100%|██████████| 32/32 [00:50<00:00,  1.58s/it, loss=2.8658] \n"
     ]
    },
    {
     "name": "stdout",
     "output_type": "stream",
     "text": [
      "\n",
      "Epoch [4/12] Summary: Total Train Loss: 0.8658, Clf Train Loss: 0.5754, Trip Train Loss: 0.5781, Train Acc: 73.62%, Test Loss: 0.5044, Test Acc: 78.00% \n",
      "\n",
      "\n"
     ]
    },
    {
     "name": "stderr",
     "output_type": "stream",
     "text": [
      "Epoch 5/12 [Train]: 100%|██████████| 157/157 [00:55<00:00,  2.81it/s, acc=76.38%, clf_loss=2.1661, total_loss=3.3098, trip_loss=2.2267]\n",
      "Epoch 5/12 [Test ]: 100%|██████████| 32/32 [00:50<00:00,  1.57s/it, loss=2.6832] \n"
     ]
    },
    {
     "name": "stdout",
     "output_type": "stream",
     "text": [
      "\n",
      "Epoch [5/12] Summary: Total Train Loss: 0.8102, Clf Train Loss: 0.5303, Trip Train Loss: 0.5451, Train Acc: 76.38%, Test Loss: 0.4722, Test Acc: 79.17% \n",
      "\n",
      "\n"
     ]
    },
    {
     "name": "stderr",
     "output_type": "stream",
     "text": [
      "Epoch 6/12 [Train]: 100%|██████████| 157/157 [00:56<00:00,  2.80it/s, acc=77.56%, clf_loss=2.0438, total_loss=3.1226, trip_loss=2.1008]\n",
      "Epoch 6/12 [Test ]: 100%|██████████| 32/32 [00:50<00:00,  1.58s/it, loss=2.5971] \n"
     ]
    },
    {
     "name": "stdout",
     "output_type": "stream",
     "text": [
      "\n",
      "Epoch [6/12] Summary: Total Train Loss: 0.7644, Clf Train Loss: 0.5003, Trip Train Loss: 0.5143, Train Acc: 77.56%, Test Loss: 0.4779, Test Acc: 79.62% \n",
      "\n",
      "\n"
     ]
    },
    {
     "name": "stderr",
     "output_type": "stream",
     "text": [
      "Epoch 7/12 [Train]: 100%|██████████| 157/157 [00:55<00:00,  2.80it/s, acc=78.90%, clf_loss=1.9578, total_loss=3.0421, trip_loss=2.0632]\n",
      "Epoch 7/12 [Test ]: 100%|██████████| 32/32 [00:50<00:00,  1.58s/it, loss=2.4944]\n"
     ]
    },
    {
     "name": "stdout",
     "output_type": "stream",
     "text": [
      "\n",
      "Epoch [7/12] Summary: Total Train Loss: 0.7447, Clf Train Loss: 0.4793, Trip Train Loss: 0.5051, Train Acc: 78.90%, Test Loss: 0.4390, Test Acc: 81.47% \n",
      "\n",
      "\n"
     ]
    },
    {
     "name": "stderr",
     "output_type": "stream",
     "text": [
      "Epoch 8/12 [Train]: 100%|██████████| 157/157 [00:55<00:00,  2.81it/s, acc=79.52%, clf_loss=1.9066, total_loss=2.9298, trip_loss=1.9765]\n",
      "Epoch 8/12 [Test ]: 100%|██████████| 32/32 [00:50<00:00,  1.58s/it, loss=2.6251] \n"
     ]
    },
    {
     "name": "stdout",
     "output_type": "stream",
     "text": [
      "\n",
      "Epoch [8/12] Summary: Total Train Loss: 0.7172, Clf Train Loss: 0.4667, Trip Train Loss: 0.4838, Train Acc: 79.52%, Test Loss: 0.4620, Test Acc: 80.12% \n",
      "\n",
      "\n"
     ]
    },
    {
     "name": "stderr",
     "output_type": "stream",
     "text": [
      "Epoch 9/12 [Train]: 100%|██████████| 157/157 [00:56<00:00,  2.80it/s, acc=80.09%, clf_loss=1.8588, total_loss=2.8590, trip_loss=1.9296]\n",
      "Epoch 9/12 [Test ]: 100%|██████████| 32/32 [00:50<00:00,  1.57s/it, loss=2.3947] \n"
     ]
    },
    {
     "name": "stdout",
     "output_type": "stream",
     "text": [
      "\n",
      "Epoch [9/12] Summary: Total Train Loss: 0.6999, Clf Train Loss: 0.4550, Trip Train Loss: 0.4724, Train Acc: 80.09%, Test Loss: 0.4406, Test Acc: 81.28% \n",
      "\n",
      "\n"
     ]
    },
    {
     "name": "stderr",
     "output_type": "stream",
     "text": [
      "Epoch 10/12 [Train]: 100%|██████████| 157/157 [00:56<00:00,  2.80it/s, acc=81.21%, clf_loss=1.7570, total_loss=2.7439, trip_loss=1.8654]\n",
      "Epoch 10/12 [Test ]: 100%|██████████| 32/32 [00:50<00:00,  1.58s/it, loss=2.5099]\n"
     ]
    },
    {
     "name": "stdout",
     "output_type": "stream",
     "text": [
      "\n",
      "Epoch [10/12] Summary: Total Train Loss: 0.6717, Clf Train Loss: 0.4301, Trip Train Loss: 0.4567, Train Acc: 81.21%, Test Loss: 0.4417, Test Acc: 82.12% \n",
      "\n",
      "\n"
     ]
    },
    {
     "name": "stderr",
     "output_type": "stream",
     "text": [
      "Epoch 11/12 [Train]: 100%|██████████| 157/157 [00:56<00:00,  2.80it/s, acc=82.11%, clf_loss=1.7037, total_loss=2.6667, trip_loss=1.8148]\n",
      "Epoch 11/12 [Test ]: 100%|██████████| 32/32 [00:50<00:00,  1.57s/it, loss=2.3047]\n"
     ]
    },
    {
     "name": "stdout",
     "output_type": "stream",
     "text": [
      "\n",
      "Epoch [11/12] Summary: Total Train Loss: 0.6528, Clf Train Loss: 0.4171, Trip Train Loss: 0.4443, Train Acc: 82.11%, Test Loss: 0.4241, Test Acc: 82.10% \n",
      "\n",
      "\n"
     ]
    },
    {
     "name": "stderr",
     "output_type": "stream",
     "text": [
      "Epoch 12/12 [Train]: 100%|██████████| 157/157 [00:56<00:00,  2.80it/s, acc=82.42%, clf_loss=1.6607, total_loss=2.5610, trip_loss=1.7307]\n",
      "Epoch 12/12 [Test ]: 100%|██████████| 32/32 [00:50<00:00,  1.57s/it, loss=2.2097]\n"
     ]
    },
    {
     "name": "stdout",
     "output_type": "stream",
     "text": [
      "\n",
      "Epoch [12/12] Summary: Total Train Loss: 0.6269, Clf Train Loss: 0.4065, Trip Train Loss: 0.4237, Train Acc: 82.42%, Test Loss: 0.3889, Test Acc: 84.30% \n",
      "\n",
      "\n",
      "Training finished.\n",
      "Plots saved to './output' directory.\n",
      "Model parameters saved to './output/cnn_4cls_128dim_1.5tm_model.pth'\n"
     ]
    }
   ],
   "source": [
    "train_model(\n",
    "    train_loader=train_loader,\n",
    "    test_loader=test_loader,\n",
    "    encoder_name='cnn',\n",
    "    embedding_dim=128,\n",
    "    num_classes=4,\n",
    "    learning_rate=0.0005,\n",
    "    num_epochs=12,\n",
    "    triplet_margin=1.5,\n",
    "    triplet_weight=1,\n",
    "    classification_weight=0.5,\n",
    ")"
   ]
  },
  {
   "cell_type": "code",
   "execution_count": 13,
   "id": "70a85910",
   "metadata": {},
   "outputs": [
    {
     "name": "stdout",
     "output_type": "stream",
     "text": [
      "Using device: mps\n",
      "learning_rate: 0.0005, \n",
      "num_epochs: 12 \n",
      "embedding_dim: 128 \n",
      "num_classes: 4\n",
      "Encoder Architecture: resnet18\n",
      "Triplet Margin: 1, Triplet Weight: 1, Classification Weight: 0.5\n",
      "Starting training...\n"
     ]
    },
    {
     "name": "stderr",
     "output_type": "stream",
     "text": [
      "Epoch 1/12 [Train]: 100%|██████████| 157/157 [02:34<00:00,  1.01it/s, acc=59.27%, clf_loss=3.4642, total_loss=4.0089, trip_loss=2.2768]\n",
      "Epoch 1/12 [Test ]: 100%|██████████| 32/32 [00:51<00:00,  1.62s/it, loss=3.3308]\n"
     ]
    },
    {
     "name": "stdout",
     "output_type": "stream",
     "text": [
      "\n",
      "Epoch [1/12] Summary: Total Train Loss: 1.0006, Clf Train Loss: 0.8647, Trip Train Loss: 0.5683, Train Acc: 59.27%, Test Loss: 0.7727, Test Acc: 62.33% \n",
      "\n",
      "\n"
     ]
    },
    {
     "name": "stderr",
     "output_type": "stream",
     "text": [
      "Epoch 2/12 [Train]: 100%|██████████| 157/157 [02:31<00:00,  1.04it/s, acc=69.31%, clf_loss=2.5946, total_loss=2.9014, trip_loss=1.6041]\n",
      "Epoch 2/12 [Test ]: 100%|██████████| 32/32 [00:51<00:00,  1.61s/it, loss=3.0570]\n"
     ]
    },
    {
     "name": "stdout",
     "output_type": "stream",
     "text": [
      "\n",
      "Epoch [2/12] Summary: Total Train Loss: 0.7242, Clf Train Loss: 0.6476, Trip Train Loss: 0.4004, Train Acc: 69.31%, Test Loss: 0.7092, Test Acc: 66.33% \n",
      "\n",
      "\n"
     ]
    },
    {
     "name": "stderr",
     "output_type": "stream",
     "text": [
      "Epoch 3/12 [Train]: 100%|██████████| 157/157 [02:30<00:00,  1.04it/s, acc=72.77%, clf_loss=2.3169, total_loss=2.4879, trip_loss=1.3294]\n",
      "Epoch 3/12 [Test ]: 100%|██████████| 32/32 [00:51<00:00,  1.61s/it, loss=2.4324]\n"
     ]
    },
    {
     "name": "stdout",
     "output_type": "stream",
     "text": [
      "\n",
      "Epoch [3/12] Summary: Total Train Loss: 0.6210, Clf Train Loss: 0.5783, Trip Train Loss: 0.3318, Train Acc: 72.77%, Test Loss: 0.5643, Test Acc: 75.97% \n",
      "\n",
      "\n"
     ]
    },
    {
     "name": "stderr",
     "output_type": "stream",
     "text": [
      "Epoch 4/12 [Train]: 100%|██████████| 157/157 [02:30<00:00,  1.04it/s, acc=76.92%, clf_loss=2.0319, total_loss=2.1953, trip_loss=1.1794]\n",
      "Epoch 4/12 [Test ]: 100%|██████████| 32/32 [00:51<00:00,  1.61s/it, loss=2.4534]\n"
     ]
    },
    {
     "name": "stdout",
     "output_type": "stream",
     "text": [
      "\n",
      "Epoch [4/12] Summary: Total Train Loss: 0.5479, Clf Train Loss: 0.5072, Trip Train Loss: 0.2944, Train Acc: 76.92%, Test Loss: 0.5692, Test Acc: 74.80% \n",
      "\n",
      "\n"
     ]
    },
    {
     "name": "stderr",
     "output_type": "stream",
     "text": [
      "Epoch 5/12 [Train]: 100%|██████████| 157/157 [02:30<00:00,  1.04it/s, acc=79.23%, clf_loss=1.8854, total_loss=2.0126, trip_loss=1.0699]\n",
      "Epoch 5/12 [Test ]: 100%|██████████| 32/32 [00:51<00:00,  1.61s/it, loss=2.1173]\n"
     ]
    },
    {
     "name": "stdout",
     "output_type": "stream",
     "text": [
      "\n",
      "Epoch [5/12] Summary: Total Train Loss: 0.5024, Clf Train Loss: 0.4706, Trip Train Loss: 0.2671, Train Acc: 79.23%, Test Loss: 0.4912, Test Acc: 80.45% \n",
      "\n",
      "\n"
     ]
    },
    {
     "name": "stderr",
     "output_type": "stream",
     "text": [
      "Epoch 6/12 [Train]: 100%|██████████| 157/157 [02:30<00:00,  1.04it/s, acc=81.52%, clf_loss=1.7597, total_loss=1.8332, trip_loss=0.9534]\n",
      "Epoch 6/12 [Test ]: 100%|██████████| 32/32 [00:51<00:00,  1.61s/it, loss=2.5647]\n"
     ]
    },
    {
     "name": "stdout",
     "output_type": "stream",
     "text": [
      "\n",
      "Epoch [6/12] Summary: Total Train Loss: 0.4576, Clf Train Loss: 0.4392, Trip Train Loss: 0.2380, Train Acc: 81.52%, Test Loss: 0.5950, Test Acc: 77.05% \n",
      "\n",
      "\n"
     ]
    },
    {
     "name": "stderr",
     "output_type": "stream",
     "text": [
      "Epoch 7/12 [Train]: 100%|██████████| 157/157 [02:30<00:00,  1.04it/s, acc=83.77%, clf_loss=1.5738, total_loss=1.6752, trip_loss=0.8883]\n",
      "Epoch 7/12 [Test ]: 100%|██████████| 32/32 [00:51<00:00,  1.61s/it, loss=1.6523]\n"
     ]
    },
    {
     "name": "stdout",
     "output_type": "stream",
     "text": [
      "\n",
      "Epoch [7/12] Summary: Total Train Loss: 0.4181, Clf Train Loss: 0.3928, Trip Train Loss: 0.2217, Train Acc: 83.77%, Test Loss: 0.3833, Test Acc: 84.97% \n",
      "\n",
      "\n"
     ]
    },
    {
     "name": "stderr",
     "output_type": "stream",
     "text": [
      "Epoch 8/12 [Train]: 100%|██████████| 157/157 [02:30<00:00,  1.04it/s, acc=84.75%, clf_loss=1.4814, total_loss=1.5322, trip_loss=0.7915]\n",
      "Epoch 8/12 [Test ]: 100%|██████████| 32/32 [00:51<00:00,  1.61s/it, loss=1.6203]\n"
     ]
    },
    {
     "name": "stdout",
     "output_type": "stream",
     "text": [
      "\n",
      "Epoch [8/12] Summary: Total Train Loss: 0.3824, Clf Train Loss: 0.3698, Trip Train Loss: 0.1976, Train Acc: 84.75%, Test Loss: 0.3759, Test Acc: 85.38% \n",
      "\n",
      "\n"
     ]
    },
    {
     "name": "stderr",
     "output_type": "stream",
     "text": [
      "Epoch 9/12 [Train]: 100%|██████████| 157/157 [02:30<00:00,  1.04it/s, acc=86.27%, clf_loss=1.3675, total_loss=1.4242, trip_loss=0.7404]\n",
      "Epoch 9/12 [Test ]: 100%|██████████| 32/32 [00:51<00:00,  1.61s/it, loss=1.8330]\n"
     ]
    },
    {
     "name": "stdout",
     "output_type": "stream",
     "text": [
      "\n",
      "Epoch [9/12] Summary: Total Train Loss: 0.3555, Clf Train Loss: 0.3413, Trip Train Loss: 0.1848, Train Acc: 86.27%, Test Loss: 0.4253, Test Acc: 84.30% \n",
      "\n",
      "\n"
     ]
    },
    {
     "name": "stderr",
     "output_type": "stream",
     "text": [
      "Epoch 10/12 [Train]: 100%|██████████| 157/157 [02:30<00:00,  1.04it/s, acc=86.89%, clf_loss=1.2871, total_loss=1.3258, trip_loss=0.6823]\n",
      "Epoch 10/12 [Test ]: 100%|██████████| 32/32 [00:51<00:00,  1.61s/it, loss=1.5400]\n"
     ]
    },
    {
     "name": "stdout",
     "output_type": "stream",
     "text": [
      "\n",
      "Epoch [10/12] Summary: Total Train Loss: 0.3309, Clf Train Loss: 0.3213, Trip Train Loss: 0.1703, Train Acc: 86.89%, Test Loss: 0.3573, Test Acc: 85.95% \n",
      "\n",
      "\n"
     ]
    },
    {
     "name": "stderr",
     "output_type": "stream",
     "text": [
      "Epoch 11/12 [Train]: 100%|██████████| 157/157 [02:30<00:00,  1.04it/s, acc=87.93%, clf_loss=1.2340, total_loss=1.2621, trip_loss=0.6451]\n",
      "Epoch 11/12 [Test ]: 100%|██████████| 32/32 [00:51<00:00,  1.61s/it, loss=1.4008]\n"
     ]
    },
    {
     "name": "stdout",
     "output_type": "stream",
     "text": [
      "\n",
      "Epoch [11/12] Summary: Total Train Loss: 0.3150, Clf Train Loss: 0.3080, Trip Train Loss: 0.1610, Train Acc: 87.93%, Test Loss: 0.3250, Test Acc: 87.28% \n",
      "\n",
      "\n"
     ]
    },
    {
     "name": "stderr",
     "output_type": "stream",
     "text": [
      "Epoch 12/12 [Train]: 100%|██████████| 157/157 [02:31<00:00,  1.04it/s, acc=88.35%, clf_loss=1.1799, total_loss=1.1830, trip_loss=0.5930]\n",
      "Epoch 12/12 [Test ]: 100%|██████████| 32/32 [00:51<00:00,  1.61s/it, loss=1.6634]\n"
     ]
    },
    {
     "name": "stdout",
     "output_type": "stream",
     "text": [
      "\n",
      "Epoch [12/12] Summary: Total Train Loss: 0.2953, Clf Train Loss: 0.2945, Trip Train Loss: 0.1480, Train Acc: 88.35%, Test Loss: 0.3859, Test Acc: 85.30% \n",
      "\n",
      "\n",
      "Training finished.\n",
      "Plots saved to './output' directory.\n",
      "Model parameters saved to './output/resnet18_4cls_128dim_1tm_model.pth'\n"
     ]
    }
   ],
   "source": [
    "train_model(\n",
    "    train_loader=train_loader,\n",
    "    test_loader=test_loader,\n",
    "    encoder_name='resnet18',\n",
    "    embedding_dim=128,\n",
    "    num_classes=4,\n",
    "    learning_rate=0.0005,\n",
    "    num_epochs=12,\n",
    "    triplet_margin=1,\n",
    "    triplet_weight=1,\n",
    "    classification_weight=0.5,\n",
    ")"
   ]
  },
  {
   "cell_type": "code",
   "execution_count": 14,
   "id": "ea9a5041",
   "metadata": {},
   "outputs": [
    {
     "name": "stdout",
     "output_type": "stream",
     "text": [
      "Using device: mps\n",
      "learning_rate: 0.0005, \n",
      "num_epochs: 12 \n",
      "embedding_dim: 64 \n",
      "num_classes: 4\n",
      "Encoder Architecture: resnet18\n",
      "Triplet Margin: 1, Triplet Weight: 1, Classification Weight: 0.5\n",
      "Starting training...\n"
     ]
    },
    {
     "name": "stderr",
     "output_type": "stream",
     "text": [
      "Epoch 1/12 [Train]: 100%|██████████| 157/157 [02:31<00:00,  1.04it/s, acc=58.08%, clf_loss=3.5314, total_loss=4.0428, trip_loss=2.2771]\n",
      "Epoch 1/12 [Test ]: 100%|██████████| 32/32 [00:51<00:00,  1.61s/it, loss=3.3483]\n"
     ]
    },
    {
     "name": "stdout",
     "output_type": "stream",
     "text": [
      "\n",
      "Epoch [1/12] Summary: Total Train Loss: 1.0091, Clf Train Loss: 0.8814, Trip Train Loss: 0.5684, Train Acc: 58.08%, Test Loss: 0.7768, Test Acc: 62.00% \n",
      "\n",
      "\n"
     ]
    },
    {
     "name": "stderr",
     "output_type": "stream",
     "text": [
      "Epoch 2/12 [Train]: 100%|██████████| 157/157 [02:31<00:00,  1.04it/s, acc=69.58%, clf_loss=2.5729, total_loss=2.8138, trip_loss=1.5273]\n",
      "Epoch 2/12 [Test ]: 100%|██████████| 32/32 [00:51<00:00,  1.61s/it, loss=3.1564]\n"
     ]
    },
    {
     "name": "stdout",
     "output_type": "stream",
     "text": [
      "\n",
      "Epoch [2/12] Summary: Total Train Loss: 0.7023, Clf Train Loss: 0.6422, Trip Train Loss: 0.3812, Train Acc: 69.58%, Test Loss: 0.7323, Test Acc: 68.45% \n",
      "\n",
      "\n"
     ]
    },
    {
     "name": "stderr",
     "output_type": "stream",
     "text": [
      "Epoch 3/12 [Train]: 100%|██████████| 157/157 [02:30<00:00,  1.04it/s, acc=74.17%, clf_loss=2.2320, total_loss=2.4296, trip_loss=1.3136]\n",
      "Epoch 3/12 [Test ]: 100%|██████████| 32/32 [00:51<00:00,  1.60s/it, loss=2.3253]\n"
     ]
    },
    {
     "name": "stdout",
     "output_type": "stream",
     "text": [
      "\n",
      "Epoch [3/12] Summary: Total Train Loss: 0.6064, Clf Train Loss: 0.5571, Trip Train Loss: 0.3279, Train Acc: 74.17%, Test Loss: 0.5395, Test Acc: 76.08% \n",
      "\n",
      "\n"
     ]
    },
    {
     "name": "stderr",
     "output_type": "stream",
     "text": [
      "Epoch 4/12 [Train]: 100%|██████████| 157/157 [02:30<00:00,  1.04it/s, acc=77.61%, clf_loss=2.0140, total_loss=2.1557, trip_loss=1.1487]\n",
      "Epoch 4/12 [Test ]: 100%|██████████| 32/32 [00:51<00:00,  1.61s/it, loss=2.2669]\n"
     ]
    },
    {
     "name": "stdout",
     "output_type": "stream",
     "text": [
      "\n",
      "Epoch [4/12] Summary: Total Train Loss: 0.5381, Clf Train Loss: 0.5027, Trip Train Loss: 0.2867, Train Acc: 77.61%, Test Loss: 0.5259, Test Acc: 77.83% \n",
      "\n",
      "\n"
     ]
    },
    {
     "name": "stderr",
     "output_type": "stream",
     "text": [
      "Epoch 5/12 [Train]: 100%|██████████| 157/157 [02:31<00:00,  1.04it/s, acc=80.07%, clf_loss=1.8471, total_loss=1.9641, trip_loss=1.0406]\n",
      "Epoch 5/12 [Test ]: 100%|██████████| 32/32 [00:51<00:00,  1.60s/it, loss=1.8657]\n"
     ]
    },
    {
     "name": "stdout",
     "output_type": "stream",
     "text": [
      "\n",
      "Epoch [5/12] Summary: Total Train Loss: 0.4902, Clf Train Loss: 0.4610, Trip Train Loss: 0.2597, Train Acc: 80.07%, Test Loss: 0.4328, Test Acc: 81.45% \n",
      "\n",
      "\n"
     ]
    },
    {
     "name": "stderr",
     "output_type": "stream",
     "text": [
      "Epoch 6/12 [Train]: 100%|██████████| 157/157 [02:30<00:00,  1.04it/s, acc=82.44%, clf_loss=1.6532, total_loss=1.7541, trip_loss=0.9275]\n",
      "Epoch 6/12 [Test ]: 100%|██████████| 32/32 [00:51<00:00,  1.61s/it, loss=1.9411]\n"
     ]
    },
    {
     "name": "stdout",
     "output_type": "stream",
     "text": [
      "\n",
      "Epoch [6/12] Summary: Total Train Loss: 0.4378, Clf Train Loss: 0.4126, Trip Train Loss: 0.2315, Train Acc: 82.44%, Test Loss: 0.4503, Test Acc: 80.88% \n",
      "\n",
      "\n"
     ]
    },
    {
     "name": "stderr",
     "output_type": "stream",
     "text": [
      "Epoch 7/12 [Train]: 100%|██████████| 157/157 [02:30<00:00,  1.04it/s, acc=84.20%, clf_loss=1.5376, total_loss=1.6217, trip_loss=0.8529]\n",
      "Epoch 7/12 [Test ]: 100%|██████████| 32/32 [00:51<00:00,  1.61s/it, loss=1.8028]\n"
     ]
    },
    {
     "name": "stdout",
     "output_type": "stream",
     "text": [
      "\n",
      "Epoch [7/12] Summary: Total Train Loss: 0.4048, Clf Train Loss: 0.3838, Trip Train Loss: 0.2129, Train Acc: 84.20%, Test Loss: 0.4183, Test Acc: 83.75% \n",
      "\n",
      "\n"
     ]
    },
    {
     "name": "stderr",
     "output_type": "stream",
     "text": [
      "Epoch 8/12 [Train]: 100%|██████████| 157/157 [02:30<00:00,  1.04it/s, acc=85.39%, clf_loss=1.4438, total_loss=1.4995, trip_loss=0.7777]\n",
      "Epoch 8/12 [Test ]: 100%|██████████| 32/32 [00:51<00:00,  1.61s/it, loss=1.8299]\n"
     ]
    },
    {
     "name": "stdout",
     "output_type": "stream",
     "text": [
      "\n",
      "Epoch [8/12] Summary: Total Train Loss: 0.3743, Clf Train Loss: 0.3604, Trip Train Loss: 0.1941, Train Acc: 85.39%, Test Loss: 0.4245, Test Acc: 83.50% \n",
      "\n",
      "\n"
     ]
    },
    {
     "name": "stderr",
     "output_type": "stream",
     "text": [
      "Epoch 9/12 [Train]: 100%|██████████| 157/157 [02:30<00:00,  1.04it/s, acc=86.20%, clf_loss=1.3519, total_loss=1.4178, trip_loss=0.7418]\n",
      "Epoch 9/12 [Test ]: 100%|██████████| 32/32 [00:51<00:00,  1.61s/it, loss=2.4005]\n"
     ]
    },
    {
     "name": "stdout",
     "output_type": "stream",
     "text": [
      "\n",
      "Epoch [9/12] Summary: Total Train Loss: 0.3539, Clf Train Loss: 0.3374, Trip Train Loss: 0.1852, Train Acc: 86.20%, Test Loss: 0.5569, Test Acc: 79.95% \n",
      "\n",
      "\n"
     ]
    },
    {
     "name": "stderr",
     "output_type": "stream",
     "text": [
      "Epoch 10/12 [Train]: 100%|██████████| 157/157 [02:30<00:00,  1.04it/s, acc=87.39%, clf_loss=1.2866, total_loss=1.3248, trip_loss=0.6815]\n",
      "Epoch 10/12 [Test ]: 100%|██████████| 32/32 [00:51<00:00,  1.61s/it, loss=2.7178]\n"
     ]
    },
    {
     "name": "stdout",
     "output_type": "stream",
     "text": [
      "\n",
      "Epoch [10/12] Summary: Total Train Loss: 0.3307, Clf Train Loss: 0.3211, Trip Train Loss: 0.1701, Train Acc: 87.39%, Test Loss: 0.6305, Test Acc: 79.80% \n",
      "\n",
      "\n"
     ]
    },
    {
     "name": "stderr",
     "output_type": "stream",
     "text": [
      "Epoch 11/12 [Train]: 100%|██████████| 157/157 [02:30<00:00,  1.04it/s, acc=87.45%, clf_loss=1.2566, total_loss=1.3153, trip_loss=0.6870]\n",
      "Epoch 11/12 [Test ]: 100%|██████████| 32/32 [00:51<00:00,  1.61s/it, loss=1.6731]\n"
     ]
    },
    {
     "name": "stdout",
     "output_type": "stream",
     "text": [
      "\n",
      "Epoch [11/12] Summary: Total Train Loss: 0.3283, Clf Train Loss: 0.3137, Trip Train Loss: 0.1715, Train Acc: 87.45%, Test Loss: 0.3882, Test Acc: 85.85% \n",
      "\n",
      "\n"
     ]
    },
    {
     "name": "stderr",
     "output_type": "stream",
     "text": [
      "Epoch 12/12 [Train]: 100%|██████████| 157/157 [02:30<00:00,  1.04it/s, acc=88.43%, clf_loss=1.1485, total_loss=1.1761, trip_loss=0.6019]\n",
      "Epoch 12/12 [Test ]: 100%|██████████| 32/32 [00:51<00:00,  1.60s/it, loss=1.4412]\n"
     ]
    },
    {
     "name": "stdout",
     "output_type": "stream",
     "text": [
      "\n",
      "Epoch [12/12] Summary: Total Train Loss: 0.2936, Clf Train Loss: 0.2867, Trip Train Loss: 0.1502, Train Acc: 88.43%, Test Loss: 0.3344, Test Acc: 87.80% \n",
      "\n",
      "\n",
      "Training finished.\n",
      "Plots saved to './output' directory.\n",
      "Model parameters saved to './output/resnet18_4cls_64dim_1tm_model.pth'\n"
     ]
    }
   ],
   "source": [
    "train_model(\n",
    "    train_loader=train_loader,\n",
    "    test_loader=test_loader,\n",
    "    encoder_name='resnet18',\n",
    "    embedding_dim=64,\n",
    "    num_classes=4,\n",
    "    learning_rate=0.0005,\n",
    "    num_epochs=12,\n",
    "    triplet_margin=1,\n",
    "    triplet_weight=1,\n",
    "    classification_weight=0.5,\n",
    ")"
   ]
  },
  {
   "cell_type": "code",
   "execution_count": 15,
   "id": "c5c65aa4",
   "metadata": {},
   "outputs": [
    {
     "name": "stdout",
     "output_type": "stream",
     "text": [
      "Using device: mps\n",
      "learning_rate: 0.0005, \n",
      "num_epochs: 12 \n",
      "embedding_dim: 64 \n",
      "num_classes: 4\n",
      "Encoder Architecture: resnet18\n",
      "Triplet Margin: 1.5, Triplet Weight: 1, Classification Weight: 0.5\n",
      "Starting training...\n"
     ]
    },
    {
     "name": "stderr",
     "output_type": "stream",
     "text": [
      "Epoch 1/12 [Train]: 100%|██████████| 157/157 [02:30<00:00,  1.04it/s, acc=59.16%, clf_loss=3.4958, total_loss=5.1006, trip_loss=3.3527]\n",
      "Epoch 1/12 [Test ]: 100%|██████████| 32/32 [00:51<00:00,  1.61s/it, loss=3.1313]\n"
     ]
    },
    {
     "name": "stdout",
     "output_type": "stream",
     "text": [
      "\n",
      "Epoch [1/12] Summary: Total Train Loss: 1.2731, Clf Train Loss: 0.8725, Trip Train Loss: 0.8368, Train Acc: 59.16%, Test Loss: 0.7265, Test Acc: 65.92% \n",
      "\n",
      "\n"
     ]
    },
    {
     "name": "stderr",
     "output_type": "stream",
     "text": [
      "Epoch 2/12 [Train]: 100%|██████████| 157/157 [02:31<00:00,  1.04it/s, acc=69.30%, clf_loss=2.5820, total_loss=3.6035, trip_loss=2.3125]\n",
      "Epoch 2/12 [Test ]: 100%|██████████| 32/32 [00:51<00:00,  1.60s/it, loss=3.0006]\n"
     ]
    },
    {
     "name": "stdout",
     "output_type": "stream",
     "text": [
      "\n",
      "Epoch [2/12] Summary: Total Train Loss: 0.8994, Clf Train Loss: 0.6445, Trip Train Loss: 0.5772, Train Acc: 69.30%, Test Loss: 0.6961, Test Acc: 69.15% \n",
      "\n",
      "\n"
     ]
    },
    {
     "name": "stderr",
     "output_type": "stream",
     "text": [
      "Epoch 3/12 [Train]: 100%|██████████| 157/157 [02:31<00:00,  1.04it/s, acc=72.72%, clf_loss=2.3242, total_loss=3.2047, trip_loss=2.0426]\n",
      "Epoch 3/12 [Test ]: 100%|██████████| 32/32 [00:51<00:00,  1.62s/it, loss=2.4339]\n"
     ]
    },
    {
     "name": "stdout",
     "output_type": "stream",
     "text": [
      "\n",
      "Epoch [3/12] Summary: Total Train Loss: 0.7999, Clf Train Loss: 0.5801, Trip Train Loss: 0.5098, Train Acc: 72.72%, Test Loss: 0.5647, Test Acc: 74.95% \n",
      "\n",
      "\n"
     ]
    },
    {
     "name": "stderr",
     "output_type": "stream",
     "text": [
      "Epoch 4/12 [Train]: 100%|██████████| 157/157 [02:31<00:00,  1.04it/s, acc=76.53%, clf_loss=2.0789, total_loss=2.7523, trip_loss=1.7128]\n",
      "Epoch 4/12 [Test ]: 100%|██████████| 32/32 [00:51<00:00,  1.61s/it, loss=2.4174]\n"
     ]
    },
    {
     "name": "stdout",
     "output_type": "stream",
     "text": [
      "\n",
      "Epoch [4/12] Summary: Total Train Loss: 0.6870, Clf Train Loss: 0.5189, Trip Train Loss: 0.4275, Train Acc: 76.53%, Test Loss: 0.5608, Test Acc: 74.50% \n",
      "\n",
      "\n"
     ]
    },
    {
     "name": "stderr",
     "output_type": "stream",
     "text": [
      "Epoch 5/12 [Train]: 100%|██████████| 157/157 [02:30<00:00,  1.04it/s, acc=78.75%, clf_loss=1.9329, total_loss=2.5819, trip_loss=1.6154]\n",
      "Epoch 5/12 [Test ]: 100%|██████████| 32/32 [00:51<00:00,  1.60s/it, loss=2.0205]\n"
     ]
    },
    {
     "name": "stdout",
     "output_type": "stream",
     "text": [
      "\n",
      "Epoch [5/12] Summary: Total Train Loss: 0.6444, Clf Train Loss: 0.4824, Trip Train Loss: 0.4032, Train Acc: 78.75%, Test Loss: 0.4688, Test Acc: 78.67% \n",
      "\n",
      "\n"
     ]
    },
    {
     "name": "stderr",
     "output_type": "stream",
     "text": [
      "Epoch 6/12 [Train]: 100%|██████████| 157/157 [02:31<00:00,  1.04it/s, acc=80.77%, clf_loss=1.7867, total_loss=2.4049, trip_loss=1.5116]\n",
      "Epoch 6/12 [Test ]: 100%|██████████| 32/32 [00:51<00:00,  1.61s/it, loss=1.9336]\n"
     ]
    },
    {
     "name": "stdout",
     "output_type": "stream",
     "text": [
      "\n",
      "Epoch [6/12] Summary: Total Train Loss: 0.6003, Clf Train Loss: 0.4460, Trip Train Loss: 0.3773, Train Acc: 80.77%, Test Loss: 0.4486, Test Acc: 82.00% \n",
      "\n",
      "\n"
     ]
    },
    {
     "name": "stderr",
     "output_type": "stream",
     "text": [
      "Epoch 7/12 [Train]: 100%|██████████| 157/157 [02:31<00:00,  1.04it/s, acc=82.89%, clf_loss=1.6227, total_loss=2.1646, trip_loss=1.3532]\n",
      "Epoch 7/12 [Test ]: 100%|██████████| 32/32 [00:51<00:00,  1.61s/it, loss=2.2702]\n"
     ]
    },
    {
     "name": "stdout",
     "output_type": "stream",
     "text": [
      "\n",
      "Epoch [7/12] Summary: Total Train Loss: 0.5403, Clf Train Loss: 0.4050, Trip Train Loss: 0.3378, Train Acc: 82.89%, Test Loss: 0.5267, Test Acc: 78.78% \n",
      "\n",
      "\n"
     ]
    },
    {
     "name": "stderr",
     "output_type": "stream",
     "text": [
      "Epoch 8/12 [Train]: 100%|██████████| 157/157 [02:30<00:00,  1.04it/s, acc=84.40%, clf_loss=1.5051, total_loss=2.0032, trip_loss=1.2506]\n",
      "Epoch 8/12 [Test ]: 100%|██████████| 32/32 [00:51<00:00,  1.61s/it, loss=1.6751]\n"
     ]
    },
    {
     "name": "stdout",
     "output_type": "stream",
     "text": [
      "\n",
      "Epoch [8/12] Summary: Total Train Loss: 0.5000, Clf Train Loss: 0.3757, Trip Train Loss: 0.3122, Train Acc: 84.40%, Test Loss: 0.3886, Test Acc: 84.55% \n",
      "\n",
      "\n"
     ]
    },
    {
     "name": "stderr",
     "output_type": "stream",
     "text": [
      "Epoch 9/12 [Train]: 100%|██████████| 157/157 [02:30<00:00,  1.04it/s, acc=85.12%, clf_loss=1.4395, total_loss=1.8946, trip_loss=1.1748]\n",
      "Epoch 9/12 [Test ]: 100%|██████████| 32/32 [00:51<00:00,  1.60s/it, loss=1.6286]\n"
     ]
    },
    {
     "name": "stdout",
     "output_type": "stream",
     "text": [
      "\n",
      "Epoch [9/12] Summary: Total Train Loss: 0.4729, Clf Train Loss: 0.3593, Trip Train Loss: 0.2932, Train Acc: 85.12%, Test Loss: 0.3778, Test Acc: 84.70% \n",
      "\n",
      "\n"
     ]
    },
    {
     "name": "stderr",
     "output_type": "stream",
     "text": [
      "Epoch 10/12 [Train]: 100%|██████████| 157/157 [02:30<00:00,  1.04it/s, acc=86.35%, clf_loss=1.3491, total_loss=1.7398, trip_loss=1.0653]\n",
      "Epoch 10/12 [Test ]: 100%|██████████| 32/32 [00:51<00:00,  1.61s/it, loss=1.6547]\n"
     ]
    },
    {
     "name": "stdout",
     "output_type": "stream",
     "text": [
      "\n",
      "Epoch [10/12] Summary: Total Train Loss: 0.4343, Clf Train Loss: 0.3367, Trip Train Loss: 0.2659, Train Acc: 86.35%, Test Loss: 0.3839, Test Acc: 85.35% \n",
      "\n",
      "\n"
     ]
    },
    {
     "name": "stderr",
     "output_type": "stream",
     "text": [
      "Epoch 11/12 [Train]: 100%|██████████| 157/157 [02:30<00:00,  1.04it/s, acc=86.87%, clf_loss=1.3043, total_loss=1.6911, trip_loss=1.0389]\n",
      "Epoch 11/12 [Test ]: 100%|██████████| 32/32 [00:51<00:00,  1.60s/it, loss=1.6557]\n"
     ]
    },
    {
     "name": "stdout",
     "output_type": "stream",
     "text": [
      "\n",
      "Epoch [11/12] Summary: Total Train Loss: 0.4221, Clf Train Loss: 0.3256, Trip Train Loss: 0.2593, Train Acc: 86.87%, Test Loss: 0.3841, Test Acc: 84.97% \n",
      "\n",
      "\n"
     ]
    },
    {
     "name": "stderr",
     "output_type": "stream",
     "text": [
      "Epoch 12/12 [Train]: 100%|██████████| 157/157 [02:30<00:00,  1.04it/s, acc=88.02%, clf_loss=1.2089, total_loss=1.5205, trip_loss=0.9161]\n",
      "Epoch 12/12 [Test ]: 100%|██████████| 32/32 [00:51<00:00,  1.61s/it, loss=1.4043]\n"
     ]
    },
    {
     "name": "stdout",
     "output_type": "stream",
     "text": [
      "\n",
      "Epoch [12/12] Summary: Total Train Loss: 0.3795, Clf Train Loss: 0.3017, Trip Train Loss: 0.2287, Train Acc: 88.02%, Test Loss: 0.3258, Test Acc: 87.60% \n",
      "\n",
      "\n",
      "Training finished.\n",
      "Plots saved to './output' directory.\n",
      "Model parameters saved to './output/resnet18_4cls_64dim_1.5tm_model.pth'\n"
     ]
    }
   ],
   "source": [
    "train_model(\n",
    "    train_loader=train_loader,\n",
    "    test_loader=test_loader,\n",
    "    encoder_name='resnet18',\n",
    "    embedding_dim=64,\n",
    "    num_classes=4,\n",
    "    learning_rate=0.0005,\n",
    "    num_epochs=12,\n",
    "    triplet_margin=1.5,\n",
    "    triplet_weight=1,\n",
    "    classification_weight=0.5,\n",
    ")"
   ]
  },
  {
   "cell_type": "markdown",
   "id": "5f5fbb82",
   "metadata": {},
   "source": [
    "# Predict"
   ]
  },
  {
   "cell_type": "code",
   "execution_count": 16,
   "id": "890be5c7",
   "metadata": {},
   "outputs": [],
   "source": [
    "DEVICE = torch.device(\n",
    "    \"cuda\"\n",
    "    if torch.cuda.is_available()\n",
    "    else \"mps\" if torch.backends.mps.is_available() else \"cpu\"\n",
    ")"
   ]
  },
  {
   "cell_type": "code",
   "execution_count": 17,
   "id": "1cbd4606",
   "metadata": {},
   "outputs": [
    {
     "name": "stdout",
     "output_type": "stream",
     "text": [
      "Model loaded successfully from ./output/resnet18_4cls_64dim_1tm_model.pth\n"
     ]
    }
   ],
   "source": [
    "model = load_trained_model('./output/resnet18_4cls_64dim_1tm_model.pth', 'resnet18', 64, 4, DEVICE)"
   ]
  },
  {
   "cell_type": "code",
   "execution_count": 18,
   "id": "112d2cc3",
   "metadata": {},
   "outputs": [
    {
     "data": {
      "text/plain": [
       "4000"
      ]
     },
     "execution_count": 18,
     "metadata": {},
     "output_type": "execute_result"
    }
   ],
   "source": [
    "labels = []\n",
    "embeddings = []\n",
    "for image, label in test_dataset:\n",
    "    label, prob, embedding = predict_image_class(model, image, DEVICE, True)\n",
    "    labels.append(label)\n",
    "    embeddings.append(embedding[0].cpu().detach().numpy())\n",
    "len(labels)"
   ]
  },
  {
   "cell_type": "code",
   "execution_count": 19,
   "id": "56701adf",
   "metadata": {},
   "outputs": [],
   "source": [
    "labels = np.array(labels)\n",
    "embeddings = np.array([i for i in embeddings])"
   ]
  },
  {
   "cell_type": "markdown",
   "id": "01861478",
   "metadata": {},
   "source": [
    "# Visualization"
   ]
  },
  {
   "cell_type": "code",
   "execution_count": 20,
   "id": "b1a0053c",
   "metadata": {},
   "outputs": [],
   "source": [
    "reduced_embeddings = reduce_dimension_pca(embeddings)"
   ]
  },
  {
   "cell_type": "code",
   "execution_count": 21,
   "id": "1d6ce474",
   "metadata": {},
   "outputs": [],
   "source": [
    "reduced_embeddings, labels = sample_per_class(reduced_embeddings, labels, 500)"
   ]
  },
  {
   "cell_type": "code",
   "execution_count": 22,
   "id": "c9961807",
   "metadata": {},
   "outputs": [],
   "source": [
    "color_map = {\n",
    "    'cat': 'green',\n",
    "    'dog': 'blue',\n",
    "    'ship': 'red',\n",
    "    'truck': 'orange'\n",
    "}\n",
    "colors = [color_map[i] for i in labels]"
   ]
  },
  {
   "cell_type": "code",
   "execution_count": 23,
   "id": "813a2c9e",
   "metadata": {},
   "outputs": [
    {
     "data": {
      "image/png": "[encoded data removed]",
      "text/plain": [
       "<Figure size 1000x800 with 1 Axes>"
      ]
     },
     "metadata": {},
     "output_type": "display_data"
    }
   ],
   "source": [
    "plt.figure(figsize=(10, 8))\n",
    "for i in np.unique(labels):\n",
    "    index = np.where(labels==i)[0]\n",
    "    x = reduced_embeddings[index, 0]\n",
    "    y = reduced_embeddings[index, 1]\n",
    "    color = color_map[i]\n",
    "    label = i\n",
    "    plt.scatter(x, y, c=color, label=label, alpha=0.7)\n",
    "plt.title(\"2D Embedding Visualization (PCA)\")\n",
    "plt.xlabel(\"Principal Component 1\")\n",
    "plt.ylabel(\"Principal Component 2\")\n",
    "plt.legend()\n",
    "plt.grid(True)\n",
    "plt.show()"
   ]
  },
  {
   "cell_type": "code",
   "execution_count": null,
   "id": "9f0a2a73",
   "metadata": {},
   "outputs": [],
   "source": []
  },
  {
   "cell_type": "code",
   "execution_count": null,
   "id": "511a1dc05a9d6ac2",
   "metadata": {},
   "outputs": [],
   "source": []
  }
 ],
 "metadata": {
  "kernelspec": {
   "display_name": "deep-learning",
   "language": "python",
   "name": "python3"
  },
  "language_info": {
   "codemirror_mode": {
    "name": "ipython",
    "version": 3
   },
   "file_extension": ".py",
   "mimetype": "text/x-python",
   "name": "python",
   "nbconvert_exporter": "python",
   "pygments_lexer": "ipython3",
   "version": "3.12.0"
  }
 },
 "nbformat": 4,
 "nbformat_minor": 5
}
