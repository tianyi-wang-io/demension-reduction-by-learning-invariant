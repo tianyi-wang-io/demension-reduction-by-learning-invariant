{
 "cells": [
  {
   "cell_type": "code",
   "execution_count": 16,
   "id": "initial_id",
   "metadata": {
    "ExecuteTime": {
     "end_time": "2025-04-23T05:28:23.672738Z",
     "start_time": "2025-04-23T05:28:23.670483Z"
    },
    "collapsed": true
   },
   "outputs": [],
   "source": [
    "import random\n",
    "import torch\n",
    "import numpy as np\n",
    "import torchvision\n",
    "import torchvision.transforms as transforms\n",
    "import torch.nn.functional as F\n",
    "import matplotlib.pyplot as plt\n",
    "%matplotlib inline"
   ]
  },
  {
   "cell_type": "code",
   "execution_count": 2,
   "id": "cb166f0e",
   "metadata": {},
   "outputs": [],
   "source": [
    "from data_preparation import get_cifar10_datasets, get_dataloader\n",
    "from train import train_model"
   ]
  },
  {
   "cell_type": "markdown",
   "id": "b5db9ef4",
   "metadata": {},
   "source": [
    "# Functions"
   ]
  },
  {
   "cell_type": "code",
   "execution_count": null,
   "id": "e5ad8fdd",
   "metadata": {},
   "outputs": [],
   "source": [
    "def plot_triplet_images(image_label_tuple, index_to_class_mapping):\n",
    "    \"\"\"\n",
    "    Plots a row of 3 CIFAR-10 images with labels.\n",
    "\n",
    "    Args:\n",
    "        image_label_tuple (tuple): A tuple of (images, labels) where:\n",
    "            - images is a list or tensor of 3 images\n",
    "            - labels is a list or tensor of 3 corresponding labels\n",
    "        index_to_class_mapping (dict): Mapping from class index to class name\n",
    "    \"\"\"\n",
    "    images, labels = image_label_tuple\n",
    "    assert len(images) == 3\n",
    "\n",
    "    label_title = ['anchor', 'positive', 'negative']\n",
    "    fig, axs = plt.subplots(1, 3, figsize=(9, 3))\n",
    "    for i in range(3):\n",
    "        img, label = images[i], labels\n",
    "        if i == 2:\n",
    "            display_label = 'other'\n",
    "        else:\n",
    "            display_label = index_to_class_mapping[label]\n",
    "\n",
    "        if isinstance(img, torch.Tensor):\n",
    "            img = img.detach().cpu()\n",
    "            if img.shape[0] == 3:  # (C, H, W)\n",
    "                img = img.permute(1, 2, 0)  # to (H, W, C)\n",
    "        \n",
    "        axs[i].imshow(img)\n",
    "        axs[i].set_title(label_title[i] + ': ' + display_label, fontsize=10)\n",
    "        axs[i].axis('off')\n",
    "\n",
    "    plt.tight_layout()\n",
    "    plt.show()"
   ]
  },
  {
   "cell_type": "code",
   "execution_count": 14,
   "id": "d5965bdf",
   "metadata": {},
   "outputs": [],
   "source": [
    "def show_image(image_tensor, title=None):\n",
    "    assert isinstance(image_tensor, torch.Tensor), \"Input must be a torch.Tensor\"\n",
    "    assert image_tensor.shape == (3, 32, 32), \"Image must be of shape (3, 32, 32)\"\n",
    "\n",
    "    # Move to CPU, detach, and convert to numpy\n",
    "    img = image_tensor.detach().cpu()\n",
    "    img = img.permute(1, 2, 0).numpy()  # (C, H, W) -> (H, W, C)\n",
    "\n",
    "    # Rescale from normalized range [-1, 1] or other to [0, 1] if needed\n",
    "    img = (img - img.min()) / (img.max() - img.min())\n",
    "\n",
    "    # Plot the image\n",
    "    plt.imshow(img)\n",
    "    if title:\n",
    "        plt.title(title)\n",
    "    plt.axis('off')\n",
    "    plt.show()\n"
   ]
  },
  {
   "cell_type": "markdown",
   "id": "5914ad21",
   "metadata": {},
   "source": [
    "# Dataset"
   ]
  },
  {
   "cell_type": "code",
   "execution_count": 6,
   "id": "3615f7fd",
   "metadata": {},
   "outputs": [],
   "source": [
    "CLASS_INDEX = [0, 1, 2, 3]\n",
    "CLASS_LABEL = ['cat', 'dog', 'ship', 'truck']\n",
    "LABEL_MAP = {original_label: new_label for new_label, original_label in enumerate(CLASS_INDEX)}\n",
    "INDEX_TO_CLASS = {i: j for i, j in zip(CLASS_INDEX, CLASS_LABEL)}"
   ]
  },
  {
   "cell_type": "code",
   "execution_count": 7,
   "id": "caeaac1b",
   "metadata": {},
   "outputs": [
    {
     "name": "stdout",
     "output_type": "stream",
     "text": [
      "Filtering and remapping base training dataset...\n",
      "Dataset filtered. New number of samples: 20000\n",
      "Filtering and remapping base testing dataset...\n",
      "Dataset filtered. New number of samples: 4000\n",
      "Triplet Dataset created with 20000 samples (based on base dataset size).\n",
      "Classes found in dataset: [0, 1, 2, 3]\n",
      "Filtered CIFAR-10 Triplet train loader and standard test loader created with 4 workers.\n"
     ]
    }
   ],
   "source": [
    "train_dataset, test_dataset = get_cifar10_datasets(data_dir='./data')\n",
    "train_loader, test_loader = get_dataloader(train_dataset, test_dataset)"
   ]
  },
  {
   "cell_type": "code",
   "execution_count": null,
   "id": "bdd83cc4d7ef32e6",
   "metadata": {},
   "outputs": [],
   "source": [
    "plot_triplet_images(train_dataset[random.randint(0, 20000)], INDEX_TO_CLASS)"
   ]
  },
  {
   "cell_type": "markdown",
   "id": "643cd93ab53a5a60",
   "metadata": {},
   "source": [
    "# Training"
   ]
  },
  {
   "cell_type": "code",
   "execution_count": null,
   "id": "e47851d16fc3f46e",
   "metadata": {},
   "outputs": [],
   "source": [
    "train_model(\n",
    "    train_loader=train_loader,\n",
    "    test_loader=test_loader,\n",
    "    encoder_name='cnn',\n",
    "    embedding_dim=128,\n",
    "    num_classes=4,\n",
    "    learning_rate=0.0005,\n",
    "    num_epochs=10,\n",
    "    triplet_margin=1,\n",
    "    triplet_weight=1,\n",
    "    classification_weight=0.5,\n",
    ")"
   ]
  },
  {
   "cell_type": "code",
   "execution_count": null,
   "id": "70a85910",
   "metadata": {},
   "outputs": [],
   "source": [
    "train_model(\n",
    "    train_loader=train_loader,\n",
    "    test_loader=test_loader,\n",
    "    encoder_name='resnet18',\n",
    "    embedding_dim=128,\n",
    "    num_classes=4,\n",
    "    learning_rate=0.0005,\n",
    "    num_epochs=10,\n",
    "    triplet_margin=1,\n",
    "    triplet_weight=1,\n",
    "    classification_weight=0.5,\n",
    ")"
   ]
  },
  {
   "cell_type": "code",
   "execution_count": null,
   "id": "b9754410",
   "metadata": {},
   "outputs": [],
   "source": []
  },
  {
   "cell_type": "code",
   "execution_count": null,
   "id": "ea9a5041",
   "metadata": {},
   "outputs": [],
   "source": []
  },
  {
   "cell_type": "code",
   "execution_count": null,
   "id": "d054f670",
   "metadata": {},
   "outputs": [],
   "source": []
  },
  {
   "cell_type": "markdown",
   "id": "5f5fbb82",
   "metadata": {},
   "source": [
    "# Predict"
   ]
  },
  {
   "cell_type": "code",
   "execution_count": 3,
   "id": "5788eb45",
   "metadata": {},
   "outputs": [],
   "source": [
    "from predict import load_trained_model, predict_image_class"
   ]
  },
  {
   "cell_type": "code",
   "execution_count": 4,
   "id": "890be5c7",
   "metadata": {},
   "outputs": [],
   "source": [
    "DEVICE = torch.device(\n",
    "    \"cuda\"\n",
    "    if torch.cuda.is_available()\n",
    "    else \"mps\" if torch.backends.mps.is_available() else \"cpu\"\n",
    ")"
   ]
  },
  {
   "cell_type": "code",
   "execution_count": 5,
   "id": "1cbd4606",
   "metadata": {},
   "outputs": [
    {
     "name": "stdout",
     "output_type": "stream",
     "text": [
      "Model loaded successfully from ./output/cnn_4cls_128dim_model.pth\n"
     ]
    }
   ],
   "source": [
    "model = load_trained_model('./output/cnn_4cls_128dim_model.pth', 'cnn', 128, 4, DEVICE)"
   ]
  },
  {
   "cell_type": "code",
   "execution_count": 20,
   "id": "3e1a9b2a",
   "metadata": {},
   "outputs": [
    {
     "data": {
      "text/plain": [
       "2"
      ]
     },
     "execution_count": 20,
     "metadata": {},
     "output_type": "execute_result"
    }
   ],
   "source": [
    "test_dataset[1][1]"
   ]
  },
  {
   "cell_type": "code",
   "execution_count": 19,
   "id": "48b793e8",
   "metadata": {},
   "outputs": [
    {
     "name": "stderr",
     "output_type": "stream",
     "text": [
      "/var/folders/w5/w4nlx9qs6d3fn7zkg65ps2bh0000gn/T/ipykernel_5392/855856324.py:1: UserWarning: Implicit dimension choice for softmax has been deprecated. Change the call to include dim=X as an argument.\n",
      "  F.softmax(model(test_dataset[1][0].to(DEVICE)))\n"
     ]
    },
    {
     "data": {
      "text/plain": [
       "tensor([[2.8441e-04, 4.2710e-05, 9.9936e-01, 3.1270e-04]], device='mps:0',\n",
       "       grad_fn=<SoftmaxBackward0>)"
      ]
     },
     "execution_count": 19,
     "metadata": {},
     "output_type": "execute_result"
    }
   ],
   "source": [
    "F.softmax(model(test_dataset[1][0].to(DEVICE)))"
   ]
  },
  {
   "cell_type": "code",
   "execution_count": 22,
   "id": "d1dad719",
   "metadata": {},
   "outputs": [
    {
     "data": {
      "text/plain": [
       "tensor([[ 0.6434,  0.9323,  0.4026,  0.0744,  0.3516,  0.4022,  0.0411,  0.2594,\n",
       "         -0.8487,  0.6498, -0.1127, -0.3098, -0.4078, -0.0682,  0.2459,  0.0418,\n",
       "         -0.2495, -0.2023,  0.1984,  0.4112, -0.2441,  0.0932,  0.0658,  0.0073,\n",
       "         -0.3816, -0.3088, -0.1498, -0.6386, -0.1389, -0.2496, -0.2576, -0.4026,\n",
       "         -0.0013, -0.4772, -0.2112, -0.2154, -0.4472, -0.5735, -0.0720, -0.2778,\n",
       "         -0.0609,  0.2521,  0.2349, -0.1334,  0.3723, -0.1490,  0.4521, -0.3317,\n",
       "         -0.6547,  0.5991,  0.2942, -0.2258, -0.7593,  0.6373,  0.2341,  0.1778,\n",
       "          0.0221,  0.0216, -0.0937, -0.2429,  0.0681, -0.3883,  0.3237,  0.4536,\n",
       "         -0.5561, -0.4577,  0.1926,  0.1559,  0.1452,  0.0410, -0.1660, -0.1513,\n",
       "          0.0107,  0.7070, -0.7750, -0.2765,  0.6864,  0.0429,  0.0619,  0.1700,\n",
       "         -0.5426,  0.1706,  0.4701, -0.5022,  0.4120, -0.2666,  0.5633,  0.1182,\n",
       "          0.1351, -0.4838, -0.1309,  0.6244, -0.6927, -0.4140,  0.2680, -0.3124,\n",
       "          0.4971, -0.3563, -0.0323, -0.2853,  0.1236, -0.0243, -0.1440, -0.2754,\n",
       "         -0.2787, -0.0882, -0.1168, -0.0627, -0.5863, -0.1372,  0.2531, -0.1145,\n",
       "         -0.6794,  0.1297, -0.5193, -0.1377, -0.0012, -0.4269, -0.2464,  0.2249,\n",
       "          0.4438,  0.1563,  0.1878,  0.1461,  0.0895, -0.3786,  0.2125,  0.8144]],\n",
       "       device='mps:0', grad_fn=<LinearBackward0>)"
      ]
     },
     "execution_count": 22,
     "metadata": {},
     "output_type": "execute_result"
    }
   ],
   "source": [
    "model.get_embedding(test_dataset[1][0].to(DEVICE))"
   ]
  },
  {
   "cell_type": "code",
   "execution_count": 18,
   "id": "99abcf39",
   "metadata": {},
   "outputs": [
    {
     "data": {
      "image/png": "[encoded data removed]",
      "text/plain": [
       "<Figure size 640x480 with 1 Axes>"
      ]
     },
     "metadata": {},
     "output_type": "display_data"
    }
   ],
   "source": [
    "show_image(test_dataset[1][0])"
   ]
  },
  {
   "cell_type": "code",
   "execution_count": null,
   "id": "112d2cc3",
   "metadata": {},
   "outputs": [],
   "source": []
  },
  {
   "cell_type": "code",
   "execution_count": null,
   "id": "dd37aa9f",
   "metadata": {},
   "outputs": [],
   "source": []
  },
  {
   "cell_type": "code",
   "execution_count": null,
   "id": "c4ca1a077deda1f4",
   "metadata": {},
   "outputs": [],
   "source": []
  },
  {
   "cell_type": "code",
   "execution_count": null,
   "id": "a956d23aa445b1e8",
   "metadata": {},
   "outputs": [],
   "source": []
  },
  {
   "cell_type": "code",
   "execution_count": null,
   "id": "5af53060e2ea4078",
   "metadata": {},
   "outputs": [],
   "source": []
  },
  {
   "cell_type": "code",
   "execution_count": null,
   "id": "2aac613e233910fd",
   "metadata": {},
   "outputs": [],
   "source": []
  },
  {
   "cell_type": "code",
   "execution_count": null,
   "id": "511a1dc05a9d6ac2",
   "metadata": {},
   "outputs": [],
   "source": []
  }
 ],
 "metadata": {
  "kernelspec": {
   "display_name": "deep-learning",
   "language": "python",
   "name": "python3"
  },
  "language_info": {
   "codemirror_mode": {
    "name": "ipython",
    "version": 3
   },
   "file_extension": ".py",
   "mimetype": "text/x-python",
   "name": "python",
   "nbconvert_exporter": "python",
   "pygments_lexer": "ipython3",
   "version": "3.12.0"
  }
 },
 "nbformat": 4,
 "nbformat_minor": 5
}
